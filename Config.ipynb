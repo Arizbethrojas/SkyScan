{
 "cells": [
  {
   "cell_type": "markdown",
   "metadata": {},
   "source": [
    "# SkyScan Config\n",
    "Make temporary changes to a running SkyScan instance. It will revert back to the values in the environment file when restart."
   ]
  },
  {
   "cell_type": "code",
   "execution_count": 38,
   "metadata": {},
   "outputs": [],
   "source": [
    "broker=\"192.168.1.47\" # update with the IP for the Raspberry PI"
   ]
  },
  {
   "cell_type": "code",
   "execution_count": 1,
   "metadata": {},
   "outputs": [
    {
     "name": "stdout",
     "output_type": "stream",
     "text": [
      "Requirement already satisfied: paho-mqtt in /Users/lberndt/opt/anaconda3/lib/python3.8/site-packages (1.5.0)\r\n"
     ]
    }
   ],
   "source": [
    "!pip install paho-mqtt"
   ]
  },
  {
   "cell_type": "code",
   "execution_count": 42,
   "metadata": {},
   "outputs": [],
   "source": [
    "import paho.mqtt.client as mqtt\n",
    "import json"
   ]
  },
  {
   "cell_type": "code",
   "execution_count": 17,
   "metadata": {},
   "outputs": [],
   "source": [
    "client = mqtt.Client(\"notebook-config\")"
   ]
  },
  {
   "source": [
    "## Camera Zoom\n",
    "This is how much the camera is zoomed in. It is an Int number between 0-9999 (max)"
   ],
   "cell_type": "code",
   "metadata": {},
   "execution_count": null,
   "outputs": []
  },
  {
   "cell_type": "code",
   "execution_count": 69,
   "metadata": {},
   "outputs": [
    {
     "data": {
      "text/plain": [
       "<paho.mqtt.client.MQTTMessageInfo at 0x7f8d01045a90>"
      ]
     },
     "execution_count": 69,
     "metadata": {},
     "output_type": "execute_result"
    }
   ],
   "source": [
    "client.connect(broker)\n",
    "data = {}\n",
    "data['cameraZoom'] = 9999  # Update this Value\n",
    "json_data = json.dumps(data)\n",
    "client.publish(\"skyscan/config/json\",json_data)"
   ]
  },
  {
   "cell_type": "markdown",
   "metadata": {},
   "source": [
    "## Camera Delay\n",
    "Float value for the number of seconds to wait after sending the camera move API command, before sending the take picture API command."
   ]
  },
  {
   "cell_type": "code",
   "execution_count": 58,
   "metadata": {},
   "outputs": [
    {
     "data": {
      "text/plain": [
       "<paho.mqtt.client.MQTTMessageInfo at 0x7f8d0104a270>"
      ]
     },
     "execution_count": 58,
     "metadata": {},
     "output_type": "execute_result"
    }
   ],
   "source": [
    "client.connect(broker)\n",
    "data = {}\n",
    "data['cameraDelay'] = 0.25  # Update this Value\n",
    "json_data = json.dumps(data)\n",
    "client.publish(\"skyscan/config/json\",json_data)"
   ]
  },
  {
   "cell_type": "markdown",
   "metadata": {},
   "source": [
    "## Camera Move Speed\n",
    "This is how fast the camea will move. It is an Int number between 0-99 (max)"
   ]
  },
  {
   "cell_type": "code",
   "execution_count": 56,
   "metadata": {},
   "outputs": [
    {
     "data": {
      "text/plain": [
       "<paho.mqtt.client.MQTTMessageInfo at 0x7f8d0104a220>"
      ]
     },
     "execution_count": 56,
     "metadata": {},
     "output_type": "execute_result"
    }
   ],
   "source": [
    "client.connect(broker)\n",
    "data = {}\n",
    "data['cameraMoveSpeed'] = 99  # Update this Value\n",
    "json_data = json.dumps(data)\n",
    "client.publish(\"skyscan/config/json\",json_data)"
   ]
  },
  {
   "cell_type": "markdown",
   "metadata": {},
   "source": [
    "## Camera Lead\n",
    "This is how far the tracker should move the center point in front of the currently tracked plane. It is a float, and is measured in seconds, example: 0.25 . It is based on the planes current heading and how fast it is going. "
   ]
  },
  {
   "cell_type": "code",
   "execution_count": 70,
   "metadata": {},
   "outputs": [
    {
     "data": {
      "text/plain": [
       "<paho.mqtt.client.MQTTMessageInfo at 0x7f8d01054680>"
      ]
     },
     "execution_count": 70,
     "metadata": {},
     "output_type": "execute_result"
    }
   ],
   "source": [
    "client.connect(broker)\n",
    "data = {}\n",
    "data['cameraLead'] = 0.45  # Update this Value\n",
    "json_data = json.dumps(data)\n",
    "client.publish(\"skyscan/config/json\",json_data)"
   ]
  },
  {
   "cell_type": "code",
   "execution_count": null,
   "metadata": {},
   "outputs": [],
   "source": []
  },
  {
   "cell_type": "markdown",
   "metadata": {},
   "source": [
    "## Camera Bearing\n",
    "This is a float to correct the cameras heading to help it better align with True North. It can be from -180 to 180. "
   ]
  },
  {
   "cell_type": "code",
   "execution_count": 65,
   "metadata": {},
   "outputs": [
    {
     "data": {
      "text/plain": [
       "<paho.mqtt.client.MQTTMessageInfo at 0x7f8d01048a90>"
      ]
     },
     "execution_count": 65,
     "metadata": {},
     "output_type": "execute_result"
    }
   ],
   "source": [
    "client.connect(broker)\n",
    "data = {}\n",
    "data['cameraBearing'] = -2  # Update this Value\n",
    "json_data = json.dumps(data)\n",
    "client.publish(\"skyscan/config/json\",json_data)"
   ]
  },
  {
   "source": [
    "## Minimum Elevation\n",
    "The minimum elevation above the horizon which the Tracker will follow an airplane. Int value between 0-90 degrees."
   ],
   "cell_type": "code",
   "metadata": {},
   "execution_count": null,
   "outputs": []
  },
  {
   "cell_type": "code",
   "execution_count": 62,
   "metadata": {},
   "outputs": [
    {
     "data": {
      "text/plain": [
       "<paho.mqtt.client.MQTTMessageInfo at 0x7f8d01052ef0>"
      ]
     },
     "execution_count": 62,
     "metadata": {},
     "output_type": "execute_result"
    }
   ],
   "source": [
    "client.connect(broker)\n",
    "data = {}\n",
    "data['minElevation'] = 45  # Update this Value\n",
    "json_data = json.dumps(data)\n",
    "client.publish(\"skyscan/config/json\",json_data)"
   ]
  },
  {
   "source": [
    "## Minimum Altitude\n",
    "The minimum altitude for an aircraft to be tracked. Int value in Meters"
   ],
   "cell_type": "markdown",
   "metadata": {}
  },
  {
   "source": [
    "client.connect(broker)\n",
    "data = {}\n",
    "data['minAltitude'] = 0  # Update this Value\n",
    "json_data = json.dumps(data)\n",
    "client.publish(\"skyscan/config/json\",json_data)"
   ],
   "cell_type": "code",
   "metadata": {},
   "execution_count": null,
   "outputs": []
  },
  {
   "source": [
    "## Minimum Distance\n",
    "The minimum distance an aircraft needs to be from the camera in order to be tracked. Int value in Meters"
   ],
   "cell_type": "markdown",
   "metadata": {}
  },
  {
   "cell_type": "code",
   "execution_count": null,
   "metadata": {},
   "outputs": [],
   "source": [
    "client.connect(broker)\n",
    "data = {}\n",
    "data['minDistance'] = 0  # Update this Value\n",
    "json_data = json.dumps(data)\n",
    "client.publish(\"skyscan/config/json\",json_data)"
   ]
  },
  {
   "source": [
    "## Maximum Altitude\n",
    "The maximum altitude that an aircraft can be at and still be tracked. Int value in Meters"
   ],
   "cell_type": "markdown",
   "metadata": {}
  },
  {
   "cell_type": "code",
   "execution_count": null,
   "metadata": {},
   "outputs": [],
   "source": [
    "client.connect(broker)\n",
    "data = {}\n",
    "data['maxAltitude'] = 0  # Update this Value\n",
    "json_data = json.dumps(data)\n",
    "client.publish(\"skyscan/config/json\",json_data)"
   ]
  },
  {
   "source": [
    "## Minimum Distance\n",
    "The maximum distance that an aircraft can from the camera and still be tracked. Int value in Meters"
   ],
   "cell_type": "markdown",
   "metadata": {}
  },
  {
   "cell_type": "code",
   "execution_count": null,
   "metadata": {},
   "outputs": [],
   "source": [
    "client.connect(broker)\n",
    "data = {}\n",
    "data['maxDistance'] = 0  # Update this Value\n",
    "json_data = json.dumps(data)\n",
    "client.publish(\"skyscan/config/json\",json_data)"
   ]
  }
 ],
 "metadata": {
  "kernelspec": {
   "display_name": "Python 3",
   "language": "python",
   "name": "python3"
  },
  "language_info": {
   "codemirror_mode": {
    "name": "ipython",
    "version": 3
   },
   "file_extension": ".py",
   "mimetype": "text/x-python",
   "name": "python",
   "nbconvert_exporter": "python",
   "pygments_lexer": "ipython3",
   "version": "3.8.3"
  }
 },
 "nbformat": 4,
 "nbformat_minor": 4
}