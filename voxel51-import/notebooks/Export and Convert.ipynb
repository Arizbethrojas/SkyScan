{
 "cells": [
  {
   "cell_type": "markdown",
   "metadata": {},
   "source": [
    "# Labelbox Export and Convert"
   ]
  },
  {
   "cell_type": "markdown",
   "metadata": {},
   "source": [
    "This notebook will: \n",
    "- downloaded the labels from a Labelbox project\n",
    "- convert them into a format that works for training"
   ]
  },
  {
   "cell_type": "markdown",
   "metadata": {},
   "source": [
    "## Labelbox Export"
   ]
  },
  {
   "cell_type": "code",
   "execution_count": null,
   "metadata": {},
   "outputs": [],
   "source": [
    "pip install --upgrade fiftyone"
   ]
  },
  {
   "cell_type": "code",
   "execution_count": null,
   "metadata": {},
   "outputs": [],
   "source": [
    "# Imports and configuration \n",
    "import fiftyone as fo\n",
    "\n",
    "labelboxExportJson =  \"/tf/notebooks/export-2021-02-01T01-34-34.538Z.json\" # Download the exported JSON and update this\n",
    "mediaDir = \"/tf/export/planeBox\""
   ]
  },
  {
   "cell_type": "code",
   "execution_count": null,
   "metadata": {},
   "outputs": [],
   "source": [
    "# Do the groundwork for importing, setup the dataset\n",
    "import fiftyone.utils.labelbox as foul\n",
    "from uuid import uuid4\n",
    "labelbox_id_field = \"labelbox_id\"\n",
    "\n",
    "\n",
    "# expect an error here if the dataset already exists\n",
    "dataset = fo.Dataset(name=\"planeBox\")\n",
    "dataset.persistent = True\n",
    "\n",
    "# This seems dumb, but it looks like you have to create a dummy record so you can have an instance with that field name\n",
    "#sample = fo.Sample(filepath=\"./sample.jpg\")\n",
    "#dataset.add_samples([sample])\n",
    "#for sample in dataset:\n",
    "#    print(sample)\n",
    "#    sample[labelbox_id_field] = str(uuid4())\n",
    "#    sample.save()"
   ]
  },
  {
   "cell_type": "code",
   "execution_count": null,
   "metadata": {},
   "outputs": [],
   "source": [
    "# Imports the Data from Labelbox into a Voxel51 Dataset\n",
    "foul.import_from_labelbox(dataset, labelboxExportJson, download_dir=mediaDir, labelbox_id_field=labelbox_id_field)"
   ]
  },
  {
   "cell_type": "code",
   "execution_count": null,
   "metadata": {},
   "outputs": [],
   "source": []
  },
  {
   "cell_type": "code",
   "execution_count": null,
   "metadata": {},
   "outputs": [],
   "source": [
    "session = fo.launch_app(dataset, auto=False)"
   ]
  },
  {
   "cell_type": "code",
   "execution_count": null,
   "metadata": {},
   "outputs": [],
   "source": [
    "# Add a label & tag that captures if the image was skipped, indicating there was no plane, or accepted, indicating there was a plane\n",
    "from fiftyone import ViewField as F\n",
    "label_field = \"plane_ground_truth\" \n",
    "\n",
    "model_view = dataset.exists(\"model\")\n",
    "for sample in model_view:\n",
    "    sample[label_field] = fo.Classification(label=\"plane\")\n",
    "    sample.tags.append(\"plane\")\n",
    "    sample.save()\n",
    "\n",
    "\n",
    "skipped_view = dataset.match({\"model\": {\"$exists\": False, \"$eq\": None}})\n",
    "for sample in skipped_view:\n",
    "    #print(sample)\n",
    "    sample[label_field] = fo.Classification(label=\"noplane\")\n",
    "    sample.tags.append(\"noPlane\")\n",
    "    sample.save()    "
   ]
  },
  {
   "cell_type": "code",
   "execution_count": null,
   "metadata": {},
   "outputs": [],
   "source": [
    "# This exports the images into a format that Keras is happy with\n",
    "# It will create a dir structure based on the plane_ground_truth label\n",
    "# images with a Plane in them will be placed in one DIR and those without will be placed in another\n",
    "export_dir = \"./export\"\n",
    " # for example\n",
    "\n",
    "# Export the dataset\n",
    "dataset.export(\n",
    "    export_dir=export_dir,\n",
    "    dataset_type=fo.types.ImageClassificationDirectoryTree,\n",
    "    label_field=label_field,\n",
    ")"
   ]
  },
  {
   "cell_type": "code",
   "execution_count": null,
   "metadata": {},
   "outputs": [],
   "source": []
  }
 ],
 "metadata": {
  "kernelspec": {
   "display_name": "Python 3",
   "language": "python",
   "name": "python3"
  },
  "language_info": {
   "codemirror_mode": {
    "name": "ipython",
    "version": 3
   },
   "file_extension": ".py",
   "mimetype": "text/x-python",
   "name": "python",
   "nbconvert_exporter": "python",
   "pygments_lexer": "ipython3",
   "version": "3.6.9"
  }
 },
 "nbformat": 4,
 "nbformat_minor": 4
}