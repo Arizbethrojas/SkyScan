{
 "cells": [
  {
   "cell_type": "markdown",
   "metadata": {},
   "source": [
    "# Adding Model Prediction to a Voxel51 Dataset\n",
    "adapted from: https://voxel51.com/docs/fiftyone/recipes/model_inference.html"
   ]
  },
  {
   "cell_type": "markdown",
   "metadata": {},
   "source": [
    "If you haven’t already, install FiftyOne:"
   ]
  },
  {
   "cell_type": "code",
   "execution_count": null,
   "metadata": {},
   "outputs": [],
   "source": [
    "!pip install fiftyone"
   ]
  },
  {
   "cell_type": "markdown",
   "metadata": {},
   "source": [
    "# Build FiftyOne Dataset"
   ]
  },
  {
   "cell_type": "code",
   "execution_count": null,
   "metadata": {},
   "outputs": [],
   "source": [
    "#config\n",
    "import fiftyone as fo\n",
    "import os\n",
    "import pandas as pd\n",
    "\n",
    "\n",
    "file_path = \"/tf/testing\"\n",
    "planes = pd.read_csv(\"./aircraftDatabase.csv\",index_col='icao24')\n",
    "#print(planes)\n",
    "batch_size = 1000\n",
    "# Create the dataset\n",
    "try:\n",
    "    dataset = fo.load_dataset(\"plane-dataset\")\n",
    "except fo.core.dataset.DoesNotExistError:\n",
    "    dataset = fo.Dataset(name=\"plane-dataset\")\n",
    "    \n"
   ]
  },
  {
   "cell_type": "code",
   "execution_count": null,
   "metadata": {},
   "outputs": [],
   "source": [
    "\n",
    "def buildImageList(filePath):\n",
    "    labelbox_import = []\n",
    "    for folder, subfolders, files in os.walk(filePath):\n",
    "        for file in files:\n",
    "            if file.endswith(\".jpg\"):\n",
    "                image_filename = os.path.basename(file)\n",
    "                external_id = os.path.splitext(image_filename)[0]\n",
    "                image_path = os.path.abspath(os.path.join(folder, file))\n",
    "\n",
    "                item = {\"file_path\": image_path,\n",
    "                    \"external_id\": external_id}\n",
    "                labelbox_import.append(item)\n",
    "    return labelbox_import\n",
    "\n",
    "def importImageList(fileList):\n",
    "\n",
    "    samples = []\n",
    "    for image in fileList:\n",
    "        plane_id = image[\"external_id\"].split(\"_\")[0]\n",
    "        \n",
    "        \n",
    "        sample = fo.Sample(filepath=image[\"file_path\"])\n",
    "        sample[\"icao24\"] = fo.Classification(label=plane_id.lower())\n",
    "        try:\n",
    "            plane = planes.loc[ plane_id.lower()]\n",
    "            if plane.size == 27:\n",
    "                #print(\"Adding metadata for plane {} onto image {}\".format(plane[\"icao24\"].values[0], image[\"external_id\"]))\n",
    "                if isinstance(plane[\"model\"].values[0], str):\n",
    "                    sample[\"model\"] = fo.Classification(label=plane[\"model\"].values[0] )\n",
    "                if isinstance(plane[\"manufacturername\"].values[0], str):\n",
    "                    sample[\"manufacturer\"] = fo.Classification(label=plane[\"manufacturername\"].values[0])\n",
    "        except KeyError:\n",
    "            print(\"DB entry not found for: {}\".format(plane_id))\n",
    "        sample.save()\n",
    "        samples.append(sample)\n",
    "\n",
    "\n",
    "    dataset.add_samples(samples)\n",
    "    dataset.persistent = True\n",
    "    # View summary info about the dataset\n",
    "    print(dataset)\n",
    "\n",
    "    # Print the first few samples in the dataset\n",
    "    print(dataset.head())"
   ]
  },
  {
   "cell_type": "code",
   "execution_count": null,
   "metadata": {},
   "outputs": [],
   "source": [
    "image_list = buildImageList(file_path)\n",
    "if len(image_list) > 0:\n",
    "    print(\"Found {} images, processing in batches of: {}\".format(len(image_list), batch_size))\n",
    "\n",
    "    for i in range(0, len(image_list), batch_size):\n",
    "        chunk = image_list[i:i + batch_size]\n",
    "        importImageList(chunk)"
   ]
  },
  {
   "cell_type": "code",
   "execution_count": null,
   "metadata": {},
   "outputs": [],
   "source": [
    "import tensorflow as tf\n",
    "from tensorflow import keras\n",
    "from tensorflow.keras.models import load_model\n",
    "from tensorflow.keras.preprocessing import image\n",
    "import numpy as np\n",
    "import os\n",
    "\n",
    "# image folder\n",
    "folder_path = '/tf/testing'\n",
    "# path to model\n",
    "model_path = '/tf/dataset/plane-detector'\n",
    "# dimensions of images\n",
    "img_width, img_height = 299, 299\n"
   ]
  },
  {
   "cell_type": "code",
   "execution_count": null,
   "metadata": {},
   "outputs": [],
   "source": []
  },
  {
   "cell_type": "code",
   "execution_count": null,
   "metadata": {},
   "outputs": [],
   "source": [
    "# load the trained model\n",
    "model = load_model(model_path)\n",
    "model.compile(\n",
    "    optimizer=keras.optimizers.Adam(1e-5),  # Low learning rate\n",
    "    loss=keras.losses.BinaryCrossentropy(from_logits=True),\n",
    "    metrics=[keras.metrics.BinaryAccuracy()],\n",
    ")\n"
   ]
  },
  {
   "cell_type": "code",
   "execution_count": null,
   "metadata": {},
   "outputs": [],
   "source": [
    "print(dataset)"
   ]
  },
  {
   "cell_type": "code",
   "execution_count": null,
   "metadata": {},
   "outputs": [],
   "source": [
    "#view = dataset.limit(100)\n",
    "for sample in dataset: #view:\n",
    "    image_size = (img_width, img_height)\n",
    "    img = keras.preprocessing.image.load_img(sample.filepath, target_size=image_size)\n",
    "\n",
    "    img_array = keras.preprocessing.image.img_to_array(img)\n",
    "    img_array = tf.expand_dims(img_array, 0)  # Create batch axis\n",
    "\n",
    "    predictions = model.predict(img_array)\n",
    "    score = predictions[0][0]\n",
    "    #print(score)\n",
    "    if score>0:\n",
    "        label=\"plane\"\n",
    "        sample.tags.append(\"plane\")\n",
    "    else:\n",
    "        label=\"no plane\"\n",
    "        sample.tags.append(\"noPlane\")\n",
    "    sample[\"plane\"] = fo.Classification(confidence=score,label=label )\n",
    "    sample.save()\n"
   ]
  },
  {
   "cell_type": "raw",
   "metadata": {},
   "source": [
    "session = fo.launch_app(dataset, auto=False)\n",
    "view = dataset.exists(\"plane\")\n",
    "session.view = view"
   ]
  },
  {
   "cell_type": "code",
   "execution_count": null,
   "metadata": {},
   "outputs": [],
   "source": [
    "view = dataset.exists(\"plane\")\n",
    "session.view = view"
   ]
  },
  {
   "cell_type": "code",
   "execution_count": null,
   "metadata": {},
   "outputs": [],
   "source": []
  }
 ],
 "metadata": {
  "kernelspec": {
   "display_name": "Python 3",
   "language": "python",
   "name": "python3"
  },
  "language_info": {
   "codemirror_mode": {
    "name": "ipython",
    "version": 3
   },
   "file_extension": ".py",
   "mimetype": "text/x-python",
   "name": "python",
   "nbconvert_exporter": "python",
   "pygments_lexer": "ipython3",
   "version": "3.6.9"
  }
 },
 "nbformat": 4,
 "nbformat_minor": 2
}