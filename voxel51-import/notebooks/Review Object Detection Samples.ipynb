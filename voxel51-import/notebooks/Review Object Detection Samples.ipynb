{
 "cells": [
  {
   "cell_type": "code",
   "execution_count": null,
   "metadata": {},
   "outputs": [],
   "source": [
    "#config\n",
    "import fiftyone as fo\n",
    "import os\n",
    "\n",
    "\n",
    "file_path = \"/tf/testing\"\n",
    "#print(planes)\n",
    "batch_size = 1000\n",
    "\n",
    "dataset = fo.load_dataset(\"plane-dataset\")\n"
   ]
  },
  {
   "cell_type": "code",
   "execution_count": null,
   "metadata": {},
   "outputs": [],
   "source": [
    "session = fo.launch_app(dataset, auto=False)"
   ]
  },
  {
   "cell_type": "code",
   "execution_count": null,
   "metadata": {},
   "outputs": [],
   "source": [
    "view = dataset.exists(\"planebox\").skip(12000).limit(1000).match({\"tags\": {\"$nin\": [\"relabel\"]}})#.match({\"relabel\": {\"$exists\": False, \"$eq\": None}})\n",
    "print(view)\n",
    "session.view = view"
   ]
  },
  {
   "cell_type": "code",
   "execution_count": null,
   "metadata": {},
   "outputs": [],
   "source": [
    "# Create a view containing only the selected samples\n",
    "selected_view = dataset.select(session.selected)\n",
    "print(selected_view)\n",
    "for sample in selected_view:\n",
    "    sample.tags.append(\"relabel\")\n",
    "    sample.save() "
   ]
  },
  {
   "cell_type": "markdown",
   "metadata": {},
   "source": [
    "#### Find the number of photos targeted for relabeling"
   ]
  },
  {
   "cell_type": "code",
   "execution_count": null,
   "metadata": {},
   "outputs": [],
   "source": [
    "relabel_view = dataset.match_tags(\"relabel\")\n",
    "print(relabel_view)"
   ]
  },
  {
   "cell_type": "markdown",
   "metadata": {},
   "source": [
    "### Find the number of images with good bounding boxes\n",
    "Add a tag that bounding boxes are good"
   ]
  },
  {
   "cell_type": "code",
   "execution_count": null,
   "metadata": {},
   "outputs": [],
   "source": [
    "good_view = dataset.exists(\"planebox\").match({\"tags\": {\"$nin\": [\"relabel\"]}})\n",
    "print(good_view)\n",
    "#session.view = good_view\n",
    "\n",
    "for sample in good_view:\n",
    "    sample.tags.append(\"good_box\")\n",
    "    sample.save() "
   ]
  },
  {
   "cell_type": "code",
   "execution_count": null,
   "metadata": {},
   "outputs": [],
   "source": [
    "good_box_view = dataset.match_tags(\"good_box\")\n",
    "print(good_box_view)\n"
   ]
  },
  {
   "cell_type": "markdown",
   "metadata": {},
   "source": [
    "### Create Bounding Boxes with the Model\n",
    "For the image where the bounding boxes have been confirmed, we will now create bounding boxes with the normalized model.\n",
    "It will print out the Sample ID for samples that either do not have a normalize model or do not have a plane detected"
   ]
  },
  {
   "cell_type": "code",
   "execution_count": null,
   "metadata": {},
   "outputs": [],
   "source": [
    "good_box_view = dataset.match_tags(\"good_box\")\n",
    "bad_detections=[]\n",
    "bad_models=[]\n",
    "for sample in good_box_view:\n",
    "    #print(sample)\n",
    "    planeDetections = sample[\"planebox\"].detections\n",
    "\n",
    "    if len(planeDetections)==0:\n",
    "        print(sample[\"id\"])\n",
    "        bad_detections.append(sample[\"id\"])\n",
    "    else:    \n",
    "        bbox = planeDetections[0][\"bounding_box\"]\n",
    "        if sample[\"norm_model\"] == None:\n",
    "            print(sample[\"id\"])\n",
    "            bad_models.append(sample[\"id\"])\n",
    "        else:\n",
    "            label = sample[\"norm_model\"].label\n",
    "            detections = [fo.Detection(label=label, bounding_box=bbox)]\n",
    "            sample[\"modelbox\"] = fo.Detections(detections=detections)\n",
    "            sample.save()"
   ]
  },
  {
   "cell_type": "markdown",
   "metadata": {},
   "source": [
    "We are going to find that some samples do not have a plane detected or no model. When there is no model found, remove the `good_box` tag. When there is no detection, remove `good_box` tag and add a `relabel` tag."
   ]
  },
  {
   "cell_type": "code",
   "execution_count": null,
   "metadata": {},
   "outputs": [],
   "source": [
    "for sample in dataset.select(bad_detections):\n",
    "    sample.tags.remove(\"good_box\")\n",
    "    sample.tags.append(\"relabel\")\n",
    "    sample.save()\n",
    "    \n",
    "for sample in dataset.select(bad_models):\n",
    "    sample.tags.remove(\"good_box\")\n",
    "    sample.save()"
   ]
  },
  {
   "cell_type": "code",
   "execution_count": null,
   "metadata": {},
   "outputs": [],
   "source": [
    "good_box_view = dataset.match_tags(\"good_box\")\n",
    "print(good_box_view)\n",
    "session.view = good_box_view"
   ]
  },
  {
   "cell_type": "code",
   "execution_count": null,
   "metadata": {},
   "outputs": [],
   "source": []
  }
 ],
 "metadata": {
  "kernelspec": {
   "display_name": "Python 3",
   "language": "python",
   "name": "python3"
  },
  "language_info": {
   "codemirror_mode": {
    "name": "ipython",
    "version": 3
   },
   "file_extension": ".py",
   "mimetype": "text/x-python",
   "name": "python",
   "nbconvert_exporter": "python",
   "pygments_lexer": "ipython3",
   "version": "3.6.9"
  }
 },
 "nbformat": 4,
 "nbformat_minor": 2
}