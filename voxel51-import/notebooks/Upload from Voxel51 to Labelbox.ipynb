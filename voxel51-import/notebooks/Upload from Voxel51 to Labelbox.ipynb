{
 "cells": [
  {
   "cell_type": "code",
   "execution_count": null,
   "metadata": {},
   "outputs": [],
   "source": [
    "!pip install labelbox"
   ]
  },
  {
   "cell_type": "code",
   "execution_count": null,
   "metadata": {},
   "outputs": [],
   "source": [
    "import fiftyone as fo\n",
    "import math\n",
    "import fiftyone.utils.labelbox as foul\n",
    "from labelbox import Client, Project, schema, Dataset\n",
    "from uuid import uuid4\n",
    "dataset = fo.load_dataset(\"plane-dataset\")\n",
    "datasetName = \"planeBox\"\n",
    "projectName = \"planeBox\"\n",
    "from labelbox import Client\n",
    "client = Client(\"LABEL_BOX_API_KEY_GOES_HERE\")\n",
    "\n",
    "\n",
    "\n",
    "\n"
   ]
  },
  {
   "cell_type": "code",
   "execution_count": null,
   "metadata": {},
   "outputs": [],
   "source": [
    "print(\"\\n\\tLoading Project\\n---------------------------------\")\n",
    "projects = client.get_projects(where=Project.name == projectName)\n",
    "projects = list(projects)\n",
    "if len(projects) != 1:\n",
    "    print(\"Expect a single project named: {} but found {} projects\".format(projectName, len(projects)))\n",
    "    #exit(0)\n",
    "project = projects[0]\n",
    "print(\"Working with Project {}\\n\\\"{}\\\"\\nID: {}\\n \".format(project.name, project.description, project.uid))\n",
    "\n",
    "\n",
    "print(\"\\n\\tLoading Dataset\\n---------------------------------\")\n",
    "labelboxDatasets = project.datasets(where=Dataset.name == datasetName)\n",
    "labelboxDatasets = list(labelboxDatasets)\n",
    "print(labelboxDatasets)\n",
    "if len(labelboxDatasets) != 1:\n",
    "    print(\"Expect a single dataset named: {} but found {} projects\".format(datasetName, len(labeboxDatasets)))\n",
    "    #exit(0)\n",
    "labelboxDataset = labelboxDatasets[0]"
   ]
  },
  {
   "cell_type": "code",
   "execution_count": null,
   "metadata": {},
   "outputs": [],
   "source": [
    "labelbox_id_field = \"labelbox_id\"\n",
    "\n",
    "# The Dataset or DatasetView to export\n",
    "view = dataset.match_tags(\"plane\").shuffle().take(500)\n",
    "\n",
    "    \n",
    "foul.upload_media_to_labelbox(labelboxDataset, view,labelbox_id_field)    \n",
    "    \n"
   ]
  },
  {
   "cell_type": "code",
   "execution_count": null,
   "metadata": {},
   "outputs": [],
   "source": []
  }
 ],
 "metadata": {
  "kernelspec": {
   "display_name": "Python 3",
   "language": "python",
   "name": "python3"
  },
  "language_info": {
   "codemirror_mode": {
    "name": "ipython",
    "version": 3
   },
   "file_extension": ".py",
   "mimetype": "text/x-python",
   "name": "python",
   "nbconvert_exporter": "python",
   "pygments_lexer": "ipython3",
   "version": "3.6.9"
  }
 },
 "nbformat": 4,
 "nbformat_minor": 2
}