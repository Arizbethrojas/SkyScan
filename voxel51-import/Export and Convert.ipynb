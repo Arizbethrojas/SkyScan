{
 "cells": [
  {
   "cell_type": "markdown",
   "metadata": {},
   "source": [
    "# Labelbox Export and Convert"
   ]
  },
  {
   "cell_type": "markdown",
   "metadata": {},
   "source": [
    "This notebook will: \n",
    "- downloaded the labels from a Labelbox project\n",
    "- convert them into a format that works for training"
   ]
  },
  {
   "cell_type": "markdown",
   "metadata": {},
   "source": [
    "## Labelbox Export"
   ]
  },
  {
   "cell_type": "code",
   "execution_count": 13,
   "metadata": {},
   "outputs": [],
   "source": [
    "# Imports and configuration \n",
    "import fiftyone as fo\n",
    "\n",
    "labelboxExportJson =  \"./export-2021-01-28T14-03-02.769Z.json\" # Download the exported JSON and update this\n",
    "mediaDir = \"./media\""
   ]
  },
  {
   "cell_type": "code",
   "execution_count": 24,
   "metadata": {},
   "outputs": [
    {
     "name": "stdout",
     "output_type": "stream",
     "text": [
      "<Sample: {\n",
      "    'id': '6012ce974909229d4aef6675',\n",
      "    'media_type': 'image',\n",
      "    'filepath': '/Users/lberndt/Projects/Plane-Tracker/SkyScan/voxel51-import/sample.jpg',\n",
      "    'tags': BaseList([]),\n",
      "    'metadata': None,\n",
      "}>\n",
      " 100% |████████████████████████████████████████████████████████████████████████████████████████████████████████████████████████| 3798/3798 [30.1m elapsed, 0s remaining, 2.2 samples/s]      \n"
     ]
    }
   ],
   "source": [
    "# Do the groundwork for importing, setup the dataset\n",
    "import fiftyone.utils.labelbox as foul\n",
    "from uuid import uuid4\n",
    "labelbox_id_field = \"labelbox_id\"\n",
    "\n",
    "# expect an error here if the dataset already exists\n",
    "dataset = fo.Dataset(name=\"skyscan\")\n",
    "dataset.persistent = True\n",
    "\n",
    "# This seems dumb, but it looks like you have to create a dummy record so you can have an instance with that field name\n",
    "sample = fo.Sample(filepath=\"./sample.jpg\")\n",
    "dataset.add_samples([sample])\n",
    "for sample in dataset:\n",
    "    print(sample)\n",
    "    sample[labelbox_id_field] = str(uuid4())\n",
    "    sample.save()"
   ]
  },
  {
   "cell_type": "code",
   "execution_count": null,
   "metadata": {},
   "outputs": [],
   "source": [
    "# Imports the Data from Labelbox into a Voxel51 Dataset\n",
    "foul.import_from_labelbox(dataset, labelboxExportJson, download_dir=mediaDir, labelbox_id_field=labelbox_id_field)"
   ]
  },
  {
   "cell_type": "code",
   "execution_count": 60,
   "metadata": {},
   "outputs": [],
   "source": [
    "# It looks like the importer is very niave. It will download the file, and simply give it the filename in the URL\n",
    "# However the URL has a lot of parameters after the filename. The end result is that the saved file no longer has an extension\n",
    "# This will rename the file, remove that crap, update the metadata with the correct filename, copy the file, and save it to the DB.\n",
    "# There is still some sort of Error using the UI, but all the other functions seem to work.\n",
    "\n",
    "import os\n",
    "import shutil\n",
    "from pathlib import Path\n",
    "\n",
    "for sample in dataset:\n",
    "    filename = Path(sample.filepath).name\n",
    "    if filename.find('?') != -1:\n",
    "        correctFilename = filename.split('?')[0]\n",
    "        print(\"Correct Filename is: \" + correctFilename)\n",
    "        correctFilepath = str(Path(sample.filepath).parent) + \"/\" + correctFilename\n",
    "        print(\"Correct Filepath is: \" + correctFilepath)\n",
    "        shutil.copyfile(sample.filepath, correctFilepath)\n",
    "        sample[\"filepath\"] = correctFilepath\n",
    "        sample[\"metadata\"][\"mime_type\"] = \"image/jpeg\"\n",
    "        sample.save()"
   ]
  },
  {
   "cell_type": "code",
   "execution_count": 43,
   "metadata": {},
   "outputs": [],
   "source": [
    "# Add a label & tag that captures if the image was skipped, indicating there was no plane, or accepted, indicating there was a plane\n",
    "from fiftyone import ViewField as F\n",
    "label_field = \"plane_ground_truth\" \n",
    "\n",
    "model_view = dataset.exists(\"model\")\n",
    "for sample in model_view:\n",
    "    sample[label_field] = fo.Classification(label=\"plane\")\n",
    "    sample.tags.append(\"plane\")\n",
    "    sample.save()\n",
    "\n",
    "\n",
    "skipped_view = dataset.match({\"model\": {\"$exists\": False, \"$eq\": None}})\n",
    "for sample in skipped_view:\n",
    "    #print(sample)\n",
    "    sample[label_field] = fo.Classification(label=\"noplane\")\n",
    "    sample.tags.append(\"noPlane\")\n",
    "    sample.save()    "
   ]
  },
  {
   "cell_type": "code",
   "execution_count": 59,
   "metadata": {},
   "outputs": [
    {
     "name": "stdout",
     "output_type": "stream",
     "text": [
      " 100% |████████████████████████████████████████████████████████████████████████████████████████████████████████████████████████| 3798/3798 [6.2s elapsed, 0s remaining, 603.4 samples/s]      \n"
     ]
    }
   ],
   "source": [
    "# This exports the images into a format that Keras is happy with\n",
    "# It will create a dir structure based on the plane_ground_truth label\n",
    "# images with a Plane in them will be placed in one DIR and those without will be placed in another\n",
    "export_dir = \"./export\"\n",
    " # for example\n",
    "\n",
    "# Export the dataset\n",
    "dataset.export(\n",
    "    export_dir=export_dir,\n",
    "    dataset_type=fo.types.ImageClassificationDirectoryTree,\n",
    "    label_field=label_field,\n",
    ")"
   ]
  },
  {
   "cell_type": "code",
   "execution_count": null,
   "metadata": {},
   "outputs": [],
   "source": []
  }
 ],
 "metadata": {
  "kernelspec": {
   "display_name": "Python 3",
   "language": "python",
   "name": "python3"
  },
  "language_info": {
   "codemirror_mode": {
    "name": "ipython",
    "version": 3
   },
   "file_extension": ".py",
   "mimetype": "text/x-python",
   "name": "python",
   "nbconvert_exporter": "python",
   "pygments_lexer": "ipython3",
   "version": "3.8.3"
  }
 },
 "nbformat": 4,
 "nbformat_minor": 4
}
