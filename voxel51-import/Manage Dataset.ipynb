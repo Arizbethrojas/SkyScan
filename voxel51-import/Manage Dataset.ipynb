{
 "cells": [
  {
   "cell_type": "markdown",
   "metadata": {},
   "source": [
    "# Manage a Plane Dataset using Voxel51"
   ]
  },
  {
   "cell_type": "markdown",
   "metadata": {},
   "source": [
    "The following is a set of functions to help manage a plane dataset captured by SkyScan"
   ]
  },
  {
   "cell_type": "code",
   "execution_count": 17,
   "metadata": {},
   "outputs": [
    {
     "name": "stdout",
     "output_type": "stream",
     "text": [
      "{}\n",
      "Session launched. Run `session.show()` to open the App in a cell output.\n"
     ]
    }
   ],
   "source": [
    "import fiftyone as fo\n",
    "from fiftyone import ViewField as F\n",
    "\n",
    "# Load the Plane dataset\n",
    "dataset = fo.load_dataset(\"plane-dataset\") #\"skyscan2\")\n",
    "print(dataset.info)\n",
    "#dataset.remove_samples([\"6012ce974909229d4aef6675\"])\n",
    "# Open the Voxel51 Web Interface\n",
    "session = fo.launch_app(dataset, auto=False)\n",
    "session.open_tab()"
   ]
  },
  {
   "cell_type": "markdown",
   "metadata": {},
   "source": [
    "## Remove labels from non-plane images"
   ]
  },
  {
   "cell_type": "code",
   "execution_count": 8,
   "metadata": {},
   "outputs": [],
   "source": [
    "# Get currently selected images from App\n",
    "del_ids = session.selected\n",
    "\n",
    "# Mark as duplicates\n",
    "del_view = dataset.select(del_ids)\n",
    "for sample in del_view:\n",
    "    sample.clear_field(\"model\")\n",
    "    sample.clear_field(\"manufacturer\")\n",
    "    sample[\"plane\"] = fo.Classification(label=\"False\")\n",
    "    sample.tags.append(\"noPlane\")\n",
    "    sample.save()\n",
    "\n",
    "stage = fo.core.stages.Exists(\"model\")\n",
    "view = dataset.add_stage(stage)\n",
    "#stage = fo.FilterField(\"plane\", F(\"label\") == \"True\")\n",
    "#view = dataset.add_stage(stage)\n",
    "\n",
    "session.view = view"
   ]
  },
  {
   "cell_type": "code",
   "execution_count": null,
   "metadata": {},
   "outputs": [],
   "source": []
  }
 ],
 "metadata": {
  "kernelspec": {
   "display_name": "Python 3",
   "language": "python",
   "name": "python3"
  },
  "language_info": {
   "codemirror_mode": {
    "name": "ipython",
    "version": 3
   },
   "file_extension": ".py",
   "mimetype": "text/x-python",
   "name": "python",
   "nbconvert_exporter": "python",
   "pygments_lexer": "ipython3",
   "version": "3.8.3"
  }
 },
 "nbformat": 4,
 "nbformat_minor": 4
}
