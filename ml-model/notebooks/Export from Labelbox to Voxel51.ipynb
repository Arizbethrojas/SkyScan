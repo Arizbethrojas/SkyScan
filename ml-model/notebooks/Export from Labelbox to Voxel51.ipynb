{
 "cells": [
  {
   "cell_type": "markdown",
   "metadata": {},
   "source": [
    "# Export from Labelbox to Voxel51\n",
    "After you have finished labeling data in LabelBox, this notebook lets you import the labels back into a Voxel51 Dataset.\n",
    "In the Labelbox web UI, export the project and download the JSON file. "
   ]
  },
  {
   "cell_type": "code",
   "execution_count": null,
   "metadata": {},
   "outputs": [],
   "source": [
    "labelboxExportJson =  \"/tf/notebooks/export-2021-02-01T01-34-34.538Z.json\" # Download the exported JSON and update this\n",
    "dataset_name = \"test-dataset\" # The name of the V51 Dataset to use\n",
    "labelbox_id_field = \"labelbox_id\" # V51 Sample field where the corresponding Labelbox ID was save when it was uploaded to Labelbox"
   ]
  },
  {
   "cell_type": "markdown",
   "metadata": {},
   "source": [
    "## Labelbox Export"
   ]
  },
  {
   "cell_type": "code",
   "execution_count": null,
   "metadata": {},
   "outputs": [],
   "source": [
    "# Imports and configuration \n",
    "import fiftyone as fo"
   ]
  },
  {
   "cell_type": "code",
   "execution_count": null,
   "metadata": {},
   "outputs": [],
   "source": [
    "# Do the groundwork for importing, setup the dataset\n",
    "import fiftyone.utils.labelbox as foul\n",
    "from uuid import uuid4\n",
    "\n",
    "# expect an error here if the dataset already exists\n",
    "dataset = fo.load_dataset(dataset_name)"
   ]
  },
  {
   "cell_type": "code",
   "execution_count": null,
   "metadata": {},
   "outputs": [],
   "source": [
    "# Imports the Data from Labelbox into a Voxel51 Dataset\n",
    "foul.import_from_labelbox(dataset, labelboxExportJson,  labelbox_id_field=labelbox_id_field, download_dir=\"/tf/media\")"
   ]
  },
  {
   "cell_type": "markdown",
   "metadata": {},
   "source": [
    "### Examine the results"
   ]
  },
  {
   "cell_type": "code",
   "execution_count": null,
   "metadata": {},
   "outputs": [],
   "source": [
    "session = fo.launch_app(dataset, auto=False)"
   ]
  },
  {
   "cell_type": "markdown",
   "metadata": {},
   "source": [
    "## Post Processing\n",
    "You may want to do some additional data munging. I added a tag based on whether a plane was labeled or skipped in Labelbox."
   ]
  },
  {
   "cell_type": "code",
   "execution_count": null,
   "metadata": {},
   "outputs": [],
   "source": [
    "# Add a label & tag that captures if the image was skipped, indicating there was no plane, or accepted, indicating there was a plane\n",
    "from fiftyone import ViewField as F\n",
    "label_field = \"plane_ground_truth\" \n",
    "\n",
    "model_view = dataset.exists(\"model\")\n",
    "for sample in model_view:\n",
    "    sample[label_field] = fo.Classification(label=\"plane\")\n",
    "    sample.tags.append(\"plane\")\n",
    "    sample.save()\n",
    "\n",
    "\n",
    "skipped_view = dataset.match({\"model\": {\"$exists\": False, \"$eq\": None}})\n",
    "for sample in skipped_view:\n",
    "    #print(sample)\n",
    "    sample[label_field] = fo.Classification(label=\"noplane\")\n",
    "    sample.tags.append(\"noPlane\")\n",
    "    sample.save()    "
   ]
  }
 ],
 "metadata": {
  "kernelspec": {
   "display_name": "Python 3",
   "language": "python",
   "name": "python3"
  },
  "language_info": {
   "codemirror_mode": {
    "name": "ipython",
    "version": 3
   },
   "file_extension": ".py",
   "mimetype": "text/x-python",
   "name": "python",
   "nbconvert_exporter": "python",
   "pygments_lexer": "ipython3",
   "version": "3.6.9"
  }
 },
 "nbformat": 4,
 "nbformat_minor": 4
}