{
 "cells": [
  {
   "cell_type": "markdown",
   "metadata": {},
   "source": [
    "# Creating a Voxel51 Dataset from SkyScan Images\n",
    "This notebook will create a Voxel51 dataset from images captured by SkyScan. The images will be labeled with the ICAO24 identifer from the ADS-B broadcast."
   ]
  },
  {
   "cell_type": "code",
   "execution_count": null,
   "metadata": {},
   "outputs": [],
   "source": [
    "# Authors: Luke Berndt, John Speed Meyers\n",
    "# SkyScan Project\n",
    "# IQT Labs, IQT"
   ]
  },
  {
   "cell_type": "code",
   "execution_count": null,
   "metadata": {},
   "outputs": [],
   "source": [
    "import glob\n",
    "import os\n",
    "\n",
    "import fiftyone as fo"
   ]
  },
  {
   "cell_type": "code",
   "execution_count": null,
   "metadata": {},
   "outputs": [],
   "source": [
    "# Name of the Voxel51 dataset. It should not exist already.\n",
    "DATASET_NAME=\"ENTER-DATASET-NAME-HERE\"\n",
    "# Directory with the images. It should be mapped into the container using the Docker volume command.\n",
    "IMAGE_DIR=\"/tf/media/capture-5-13\""
   ]
  },
  {
   "cell_type": "code",
   "execution_count": null,
   "metadata": {},
   "outputs": [],
   "source": [
    "def build_image_list(file_path):\n",
    "    \"\"\"Create a list of plane data dicts.\n",
    "    \n",
    "    Extract plane data from from jpg filenames.\n",
    "\n",
    "    The plane image filenames follow a strict naming convention.\n",
    "    For instance, ac760d_194_50_11882_2021-05-13-14-13-42.jpg translates to\n",
    "    ac760d - plane_id, aka ICAO 24\n",
    "    194 - plane bearing\n",
    "    50 - plane elevation\n",
    "    11882 - plane distance\n",
    "    TODO: external_id - ????\n",
    "    \n",
    "    Args:\n",
    "        file_path - Path to images\n",
    "        \n",
    "    Returns:\n",
    "        (list) image_list - a list of plane dict objects\n",
    "    \"\"\"\n",
    "    image_list = []\n",
    "    for folder, _, files in os.walk(file_path):\n",
    "        for file in files:\n",
    "            if file.endswith(\".jpg\"):\n",
    "                # extract metadata for each plane from filename\n",
    "                image_filename = os.path.basename(file)\n",
    "                external_id = os.path.splitext(image_filename)[0]\n",
    "                image_path = os.path.abspath(os.path.join(folder, file))\n",
    "                plane_id = external_id.split(\"_\")[0]\n",
    "                plane_bearing = external_id.split(\"_\")[1]\n",
    "                plane_elevation = external_id.split(\"_\")[2]\n",
    "                plane_distance = external_id.split(\"_\")[3]\n",
    "                # place plane image data in a dict\n",
    "                item = {\"file_path\": image_path,\n",
    "                        \"external_id\": external_id,\n",
    "                        \"bearing\": plane_bearing,\n",
    "                        \"elevation\": plane_elevation,\n",
    "                        \"distance\": plane_distance,\n",
    "                        \"icao24\": plane_id}\n",
    "\n",
    "                image_list.append(item)\n",
    "\n",
    "    return image_list"
   ]
  },
  {
   "cell_type": "markdown",
   "metadata": {},
   "source": [
    "## Create or load dataset"
   ]
  },
  {
   "cell_type": "code",
   "execution_count": null,
   "metadata": {},
   "outputs": [],
   "source": [
    "# Create dataset\n",
    "# cell time estimate: 15 seconds\n",
    "\n",
    "# attempt to open dataset\n",
    "try:\n",
    "    dataset = fo.Dataset(name=DATASET_NAME)\n",
    "    dataset.persistent = True\n",
    "    print(\"Created {} dataset\".format(DATASET_NAME))\n",
    "# If the dataset already exists, load it instead \n",
    "except ValueError:\n",
    "    dataset = fo.load_dataset(name=DATASET_NAME)\n",
    "    print(\"Dataset already exists.Loaded {} dataset\".format(DATASET_NAME))"
   ]
  },
  {
   "cell_type": "markdown",
   "metadata": {},
   "source": [
    "## Add image samples to Voxel51 dataset"
   ]
  },
  {
   "cell_type": "code",
   "execution_count": null,
   "metadata": {},
   "outputs": [],
   "source": [
    "image_list = build_image_list(IMAGE_DIR)\n",
    "\n",
    "# Add samples to the dataset\n",
    "for image in image_list:\n",
    "    sample = fo.Sample(filepath=image[\"file_path\"])\n",
    "    sample[\"external_id\"] = fo.Classification(label=image[\"external_id\"])\n",
    "    sample[\"bearing\"] = fo.Classification(label=image[\"bearing\"])\n",
    "    sample[\"elevation\"] = fo.Classification(label=image[\"elevation\"])\n",
    "    sample[\"distance\"] = fo.Classification(label=image[\"distance\"])\n",
    "    sample[\"icao24\"] = fo.Classification(label=image[\"icao24\"])\n",
    "\n",
    "    dataset.add_sample(sample)\n",
    "    \n",
    "# print summary of dataset\n",
    "print(dataset)"
   ]
  }
 ],
 "metadata": {
  "kernelspec": {
   "display_name": "Python 3",
   "language": "python",
   "name": "python3"
  },
  "language_info": {
   "codemirror_mode": {
    "name": "ipython",
    "version": 3
   },
   "file_extension": ".py",
   "mimetype": "text/x-python",
   "name": "python",
   "nbconvert_exporter": "python",
   "pygments_lexer": "ipython3",
   "version": "3.6.9"
  }
 },
 "nbformat": 4,
 "nbformat_minor": 2
}
