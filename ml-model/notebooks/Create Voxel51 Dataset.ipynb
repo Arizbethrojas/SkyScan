{
 "cells": [
  {
   "cell_type": "markdown",
   "metadata": {},
   "source": [
    "# Creating a Voxel51 Dataset from SkyScan Images\n",
    "This notebook will create a Voxel51 dataset from images captured by SkyScan. The images will be labeled with the ICAO24 identifer from the ADS-B broadcast."
   ]
  },
  {
   "cell_type": "code",
   "execution_count": 1,
   "metadata": {},
   "outputs": [],
   "source": [
    "dataset_name=\"plane-dataset\"  #Name of the Voxel51 dataset. It should not exist already.\n",
    "image_dir=\"/tf/media/capture-5-13\" #Dir with the images. It should be mapped into the container using the Docker volume command."
   ]
  },
  {
   "cell_type": "code",
   "execution_count": 2,
   "metadata": {},
   "outputs": [],
   "source": [
    "import glob\n",
    "import fiftyone as fo\n",
    "import os"
   ]
  },
  {
   "cell_type": "code",
   "execution_count": 4,
   "metadata": {},
   "outputs": [],
   "source": [
    "def buildImageList(filePath):\n",
    "    image_list = []\n",
    "    for folder, subfolders, files in os.walk(filePath):\n",
    "        for file in files:\n",
    "            if file.endswith(\".jpg\"):\n",
    "                image_filename = os.path.basename(file)\n",
    "                external_id = os.path.splitext(image_filename)[0]\n",
    "                image_path = os.path.abspath(os.path.join(folder, file))\n",
    "                plane_id = external_id.split(\"_\")[0]\n",
    "                plane_bearing = external_id.split(\"_\")[1]\n",
    "                plane_elevation = external_id.split(\"_\")[2]\n",
    "                plane_distance = external_id.split(\"_\")[3]\n",
    "                item = {\"file_path\": image_path,\n",
    "                    \"external_id\": external_id,\n",
    "                    \"bearing\": plane_bearing,\n",
    "                    \"elevation\": plane_elevation,\n",
    "                    \"distance\": plane_distance,\n",
    "                    \"icao24\": plane_id}\n",
    "                image_list.append(item)\n",
    "    return image_list\n"
   ]
  },
  {
   "cell_type": "code",
   "execution_count": 5,
   "metadata": {},
   "outputs": [
    {
     "name": "stdout",
     "output_type": "stream",
     "text": [
      "Created plane-dataset dataset\n"
     ]
    }
   ],
   "source": [
    "# Create dataset\n",
    "try:\n",
    "    dataset = fo.Dataset(name=dataset_name)\n",
    "    dataset.persistent = True\n",
    "    print(\"Created {} dataset\".format(dataset_name))\n",
    "except ValueError: # IF the dataset already exists, load it instead \n",
    "    dataset = fo.load_dataset(name=dataset_name)\n",
    "    print(\"Loaded {} dataset\".format(dataset_name))\n",
    "    \n",
    "image_list = buildImageList(image_dir)\n",
    "\n",
    "# Add your samples to the dataset\n",
    "for image in image_list:\n",
    "    sample = fo.Sample(filepath=image[\"file_path\"])\n",
    "    sample[\"external_id\"] = fo.Classification(label=image[\"external_id\"])\n",
    "    sample[\"bearing\"] = fo.Classification(label=image[\"bearing\"])\n",
    "    sample[\"elevation\"] = fo.Classification(label=image[\"elevation\"])\n",
    "    sample[\"distance\"] = fo.Classification(label=image[\"distance\"])\n",
    "    sample[\"icao24\"] = fo.Classification(label=image[\"icao24\"])\n",
    "\n",
    "    dataset.add_sample(sample)"
   ]
  },
  {
   "cell_type": "code",
   "execution_count": null,
   "metadata": {},
   "outputs": [],
   "source": []
  }
 ],
 "metadata": {
  "kernelspec": {
   "display_name": "Python 3",
   "language": "python",
   "name": "python3"
  },
  "language_info": {
   "codemirror_mode": {
    "name": "ipython",
    "version": 3
   },
   "file_extension": ".py",
   "mimetype": "text/x-python",
   "name": "python",
   "nbconvert_exporter": "python",
   "pygments_lexer": "ipython3",
   "version": "3.6.9"
  }
 },
 "nbformat": 4,
 "nbformat_minor": 2
}
