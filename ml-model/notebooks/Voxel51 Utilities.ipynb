{
 "cells": [
  {
   "cell_type": "code",
   "execution_count": 42,
   "metadata": {},
   "outputs": [],
   "source": [
    "dataset_name = \"plane-dataset\" # Name of the Voxel51 Dataset to use"
   ]
  },
  {
   "cell_type": "markdown",
   "metadata": {},
   "source": [
    "### Load the Voxel51 Dataset"
   ]
  },
  {
   "cell_type": "code",
   "execution_count": 32,
   "metadata": {},
   "outputs": [],
   "source": [
    "#config\n",
    "import fiftyone as fo\n",
    "from fiftyone import ViewField as F\n",
    "import os\n",
    "import numpy as np\n",
    "import matplotlib.pyplot as plt\n",
    "\n",
    "\n",
    "dataset = fo.load_dataset(dataset_name)\n",
    "dataset.reload()"
   ]
  },
  {
   "cell_type": "markdown",
   "metadata": {},
   "source": [
    "### Browse the entire Voxel51 Dataset"
   ]
  },
  {
   "cell_type": "code",
   "execution_count": 24,
   "metadata": {},
   "outputs": [
    {
     "name": "stdout",
     "output_type": "stream",
     "text": [
      "Session launched. Run `session.show()` to open the App in a cell output.\n"
     ]
    }
   ],
   "source": [
    "dataset.reload()\n",
    "session = fo.launch_app(dataset, auto=False)"
   ]
  },
  {
   "cell_type": "markdown",
   "metadata": {},
   "source": [
    "### Browse a subsection of the Voxel51 Dataset"
   ]
  },
  {
   "cell_type": "code",
   "execution_count": null,
   "metadata": {},
   "outputs": [],
   "source": [
    "#view = dataset.exists(\"training\")\n",
    "\n",
    "# Veiw samples where there is no label\n",
    "# view = dataset.match({\"model\": {\"$exists\": False, \"$eq\": None}})\n",
    "\n",
    "# View samples with a tag\n",
    "view = dataset.match_tags(\"train\")\n",
    "\n",
    "print(view)\n",
    "\n",
    "session.view = view\n"
   ]
  },
  {
   "cell_type": "markdown",
   "metadata": {},
   "source": [
    "### Add Tags to Selected Samples\n",
    "Use the browser to select samples and add tags to them"
   ]
  },
  {
   "cell_type": "code",
   "execution_count": null,
   "metadata": {},
   "outputs": [],
   "source": [
    "# Create a view containing only the selected samples\n",
    "selected_view = dataset.select(session.selected)\n",
    "print(selected_view)\n",
    "for sample in selected_view:\n",
    "    sample.tags.append(\"training\")\n",
    "    sample.save() "
   ]
  },
  {
   "cell_type": "markdown",
   "metadata": {},
   "source": [
    "### Remove Tags to Selected Samples\n",
    "Use the browser to select samples and remove tags from them"
   ]
  },
  {
   "cell_type": "code",
   "execution_count": null,
   "metadata": {},
   "outputs": [],
   "source": [
    "# Create a view containing only the selected samples\n",
    "selected_view = dataset.select(session.selected)\n",
    "print(selected_view)\n",
    "for sample in selected_view:\n",
    "    sample.tags.remove(\"eval\")\n",
    "    sample.save() "
   ]
  },
  {
   "cell_type": "markdown",
   "metadata": {},
   "source": [
    "### Add a Tag to All Samples with a given Label Field"
   ]
  },
  {
   "cell_type": "code",
   "execution_count": null,
   "metadata": {},
   "outputs": [],
   "source": [
    "view = dataset.exists(\"detections\")\n",
    "print(view)\n",
    "for sample in view:\n",
    "    sample.tags.append(\"training\")\n",
    "    sample.save() "
   ]
  },
  {
   "cell_type": "markdown",
   "metadata": {},
   "source": [
    "### Add a Tag to All Samples in a Dataset"
   ]
  },
  {
   "cell_type": "code",
   "execution_count": null,
   "metadata": {},
   "outputs": [],
   "source": [
    "for sample in dataset:\n",
    "    sample.tags.append(\"capture-5-13\")\n",
    "    sample.save() "
   ]
  },
  {
   "cell_type": "markdown",
   "metadata": {},
   "source": [
    "### Number of Unique Aircraft Bodies per Normalized Model"
   ]
  },
  {
   "cell_type": "code",
   "execution_count": 12,
   "metadata": {},
   "outputs": [
    {
     "name": "stdout",
     "output_type": "stream",
     "text": [
      "737-400,1,46\n",
      "737-700,16,769\n",
      "737-800,24,1299\n",
      "737-900,12,668\n",
      "757-200,3,200\n",
      "767-200,1,40\n",
      "777-200,2,127\n",
      "A300,2,108\n",
      "A319,17,1132\n",
      "A320,72,4051\n",
      "A321,27,1506\n",
      "Bombardier Challenger,10,488\n",
      "CRJ200,1,44\n",
      "CRJ550,2,111\n",
      "CRJ700,5,207\n",
      "CRJ900,9,501\n",
      "Cessna Jet,17,900\n",
      "EMB-135,8,295\n",
      "EMB-505,6,217\n",
      "ERJ-170,63,3484\n",
      "Falcon,1,41\n",
      "Gulfstream,8,334\n",
      "Hawker 400,5,192\n",
      "Hawker 800,4,212\n",
      "HondaJet,1,45\n",
      "King Air,1,53\n",
      "LearJet,2,87\n",
      "Learjet 45/60,3,118\n",
      "Pilatus PC-12,4,287\n",
      "Piper Cheyenne,1,71\n"
     ]
    }
   ],
   "source": [
    "\n",
    "norm_models = dataset.distinct(\"norm_model.label\")\n",
    "for norm_model in norm_models:\n",
    "    view = dataset.filter_labels(\"norm_model\", (F(\"label\") == norm_model)).select_fields(\"icao24\")\n",
    "    unique_aircraft = view.distinct(\"icao24.label\")\n",
    "    \n",
    "    #print( unique_aircraft)\n",
    "    total_predictions=0\n",
    "    for icao24 in unique_aircraft:\n",
    "        plane_view = dataset.filter_labels(\"icao24\", (F(\"label\") == icao24))\n",
    "\n",
    "        for sample in plane_view:\n",
    "            #print(sample[\"auto_aug_predict_tiled\"])\n",
    "            total_predictions = total_predictions + len(sample[\"auto_aug_predict_tiled\"].detections)\n",
    "\n",
    "    #print(\"{},{},{}\".format(norm_model,len(unique_aircraft),total_predictions))     "
   ]
  },
  {
   "cell_type": "code",
   "execution_count": 64,
   "metadata": {},
   "outputs": [
    {
     "name": "stdout",
     "output_type": "stream",
     "text": [
      "737-700 Total: 16 Trian: 12 Test: 4\n",
      "737-800 Total: 24 Trian: 18 Test: 6\n",
      "737-900 Total: 12 Trian: 9 Test: 3\n",
      "757-200 Total: 3 Trian: 2 Test: 1\n",
      "777-200 Total: 2 Trian: 1 Test: 1\n",
      "A300 Total: 2 Trian: 1 Test: 1\n",
      "A319 Total: 17 Trian: 12 Test: 5\n",
      "A320 Total: 72 Trian: 54 Test: 18\n",
      "A321 Total: 27 Trian: 20 Test: 7\n",
      "Bombardier Challenger Total: 10 Trian: 7 Test: 3\n",
      "CRJ550 Total: 2 Trian: 1 Test: 1\n",
      "CRJ700 Total: 5 Trian: 3 Test: 2\n",
      "CRJ900 Total: 9 Trian: 6 Test: 3\n",
      "Cessna Jet Total: 17 Trian: 12 Test: 5\n",
      "EMB-135 Total: 8 Trian: 6 Test: 2\n",
      "EMB-505 Total: 6 Trian: 4 Test: 2\n",
      "ERJ-170 Total: 63 Trian: 47 Test: 16\n",
      "Gulfstream Total: 8 Trian: 6 Test: 2\n",
      "Hawker 400 Total: 5 Trian: 3 Test: 2\n",
      "Hawker 800 Total: 4 Trian: 3 Test: 1\n",
      "LearJet Total: 2 Trian: 1 Test: 1\n",
      "Learjet 45/60 Total: 3 Trian: 2 Test: 1\n",
      "Pilatus PC-12 Total: 4 Trian: 3 Test: 1\n"
     ]
    }
   ],
   "source": [
    "import math\n",
    "norm_models = dataset.distinct(\"norm_model.label\")\n",
    "for norm_model in norm_models:\n",
    "    view = dataset.filter_labels(\"norm_model\", (F(\"label\") == norm_model)).select_fields(\"icao24\")\n",
    "    unique_aircraft = view.distinct(\"icao24.label\")\n",
    "    if len(unique_aircraft) > 1:\n",
    "        print(\"{} Total: {} Trian: {} Test: {}\".format(norm_model,len(unique_aircraft),math.floor(len(unique_aircraft)*.75),math.ceil(len(unique_aircraft)*.25)))     \n",
    "   "
   ]
  },
  {
   "cell_type": "code",
   "execution_count": 21,
   "metadata": {},
   "outputs": [
    {
     "name": "stdout",
     "output_type": "stream",
     "text": [
      "737-400: 46\n",
      "737-700: 70\n",
      "737-800: 36\n",
      "737-900: 67\n",
      "757-200: 46\n",
      "767-200: 40\n",
      "777-200: 58\n",
      "A300: 49\n",
      "A319: 44\n",
      "A320: 50\n",
      "A321: 62\n",
      "Bombardier Challenger: 50\n",
      "CRJ200: 44\n",
      "CRJ550: 51\n",
      "CRJ700: 68\n",
      "CRJ900: 59\n",
      "Cessna Jet: 66\n",
      "EMB-135: 52\n",
      "EMB-505: 66\n",
      "ERJ-170: 108\n",
      "Falcon: 41\n",
      "Gulfstream: 69\n",
      "Hawker 400: 44\n",
      "Hawker 800: 65\n",
      "HondaJet: 45\n",
      "King Air: 53\n",
      "LearJet: 64\n",
      "Learjet 45/60: 54\n",
      "Pilatus PC-12: 69\n",
      "Piper Cheyenne: 71\n"
     ]
    }
   ],
   "source": [
    "norm_models = dataset.distinct(\"norm_model.label\")\n",
    "for norm_model in norm_models:\n",
    "    view = dataset.filter_labels(\"norm_model\", (F(\"label\") == norm_model)).select_fields(\"icao24\")\n",
    "    unique_aircraft = view.distinct(\"icao24.label\")\n",
    "\n",
    "    #print( unique_aircraft)\n",
    "    total_predictions=0\n",
    "\n",
    "    plane_view = dataset.filter_labels(\"icao24\", (F(\"label\") == unique_aircraft[0]))\n",
    "\n",
    "    for sample in plane_view:\n",
    "        #print(sample[\"auto_aug_predict_tiled\"])\n",
    "        total_predictions = total_predictions + len(sample[\"auto_aug_predict_tiled\"].detections)\n",
    "\n",
    "    print(\"{}: {}\".format(norm_model,total_predictions))  "
   ]
  },
  {
   "cell_type": "code",
   "execution_count": 19,
   "metadata": {},
   "outputs": [
    {
     "name": "stdout",
     "output_type": "stream",
     "text": [
      "737-400: 46\n",
      "737-700: 768\n",
      "737-800: 1298\n",
      "737-900: 667\n",
      "757-200: 200\n",
      "767-200: 40\n",
      "777-200: 127\n",
      "A300: 108\n",
      "A319: 1132\n",
      "A320: 4049\n",
      "A321: 1504\n",
      "Bombardier Challenger: 488\n",
      "CRJ200: 44\n",
      "CRJ550: 110\n",
      "CRJ700: 207\n",
      "CRJ900: 500\n",
      "Cessna Jet: 899\n",
      "EMB-135: 295\n",
      "EMB-505: 217\n",
      "ERJ-170: 3470\n",
      "Falcon: 41\n",
      "Gulfstream: 334\n",
      "Hawker 400: 192\n",
      "Hawker 800: 208\n",
      "HondaJet: 45\n",
      "King Air: 53\n",
      "LearJet: 87\n",
      "Learjet 45/60: 118\n",
      "Pilatus PC-12: 287\n",
      "Piper Cheyenne: 71\n"
     ]
    }
   ],
   "source": [
    "norm_models = dataset.distinct(\"norm_model.label\")\n",
    "for norm_model in norm_models:\n",
    "    view = dataset.filter_labels(\"norm_model\", (F(\"label\") == norm_model)).match(F(\"auto_aug_predict_tiled.detections\").length()>0)\n",
    "    print(\"{}: {}\".format(norm_model,len(view)))\n"
   ]
  },
  {
   "cell_type": "markdown",
   "metadata": {},
   "source": [
    "### Add Detection Evaluation"
   ]
  },
  {
   "cell_type": "code",
   "execution_count": 35,
   "metadata": {},
   "outputs": [
    {
     "name": "stdout",
     "output_type": "stream",
     "text": [
      "Dataset:     plane-dataset\n",
      "Media type:  image\n",
      "Num samples: 26106\n",
      "Tags:        ['capture-3-29', 'capture-3-30', 'capture-5-13', 'eval', 'model_eval', 'model_train', 'multi_class_eval', 'multi_class_train', 'train']\n",
      "Sample fields:\n",
      "    id:                                                                       fiftyone.core.fields.ObjectIdField\n",
      "    filepath:                                                                 fiftyone.core.fields.StringField\n",
      "    tags:                                                                     fiftyone.core.fields.ListField(fiftyone.core.fields.StringField)\n",
      "    metadata:                                                                 fiftyone.core.fields.EmbeddedDocumentField(fiftyone.core.metadata.Metadata)\n",
      "    external_id:                                                              fiftyone.core.fields.EmbeddedDocumentField(fiftyone.core.labels.Classification)\n",
      "    icao24:                                                                   fiftyone.core.fields.EmbeddedDocumentField(fiftyone.core.labels.Classification)\n",
      "    labelbox_id:                                                              fiftyone.core.fields.StringField\n",
      "    detections:                                                               fiftyone.core.fields.EmbeddedDocumentField(fiftyone.core.labels.Detections)\n",
      "    auto_aug_predict:                                                         fiftyone.core.fields.EmbeddedDocumentField(fiftyone.core.labels.Detections)\n",
      "    auto_aug_predict_tiled:                                                   fiftyone.core.fields.EmbeddedDocumentField(fiftyone.core.labels.Detections)\n",
      "    auto_aug_eval_tp:                                                         fiftyone.core.fields.IntField\n",
      "    auto_aug_eval_fp:                                                         fiftyone.core.fields.IntField\n",
      "    auto_aug_eval_fn:                                                         fiftyone.core.fields.IntField\n",
      "    model_code:                                                               fiftyone.core.fields.EmbeddedDocumentField(fiftyone.core.labels.Classification)\n",
      "    manufacturer:                                                             fiftyone.core.fields.EmbeddedDocumentField(fiftyone.core.labels.Classification)\n",
      "    model_name:                                                               fiftyone.core.fields.EmbeddedDocumentField(fiftyone.core.labels.Classification)\n",
      "    aircraft_type:                                                            fiftyone.core.fields.EmbeddedDocumentField(fiftyone.core.labels.Classification)\n",
      "    engine_type:                                                              fiftyone.core.fields.EmbeddedDocumentField(fiftyone.core.labels.Classification)\n",
      "    num_engines:                                                              fiftyone.core.fields.EmbeddedDocumentField(fiftyone.core.labels.Classification)\n",
      "    num_seats:                                                                fiftyone.core.fields.EmbeddedDocumentField(fiftyone.core.labels.Classification)\n",
      "    aircraft_weight:                                                          fiftyone.core.fields.EmbeddedDocumentField(fiftyone.core.labels.Classification)\n",
      "    norm_model:                                                               fiftyone.core.fields.EmbeddedDocumentField(fiftyone.core.labels.Classification)\n",
      "    multi_class_detections:                                                   fiftyone.core.fields.EmbeddedDocumentField(fiftyone.core.labels.Detections)\n",
      "    multi_class_predict:                                                      fiftyone.core.fields.EmbeddedDocumentField(fiftyone.core.labels.Detections)\n",
      "    multi_class_100_predict #auto_aug_predict_tiled #multi_class_predict:     fiftyone.core.fields.EmbeddedDocumentField(fiftyone.core.labels.Detections)\n",
      "    multi_class_100_40k_predict #auto_aug_predict_tiled #multi_class_predict: fiftyone.core.fields.EmbeddedDocumentField(fiftyone.core.labels.Detections)\n",
      "View stages:\n",
      "    1. MatchTags(tags=['multi_class_eval'], bool=True)\n"
     ]
    }
   ],
   "source": [
    "view = dataset.match_tags(\"multi_class_eval\")\n",
    "print(view)"
   ]
  },
  {
   "cell_type": "code",
   "execution_count": null,
   "metadata": {},
   "outputs": [],
   "source": [
    "for sample in view:\n",
    "    if sample[\"detections\"] == None:\n",
    "        sample[\"detections\"] = fo.Detections(detections=[])\n",
    "        sample.save()"
   ]
  },
  {
   "cell_type": "code",
   "execution_count": null,
   "metadata": {},
   "outputs": [],
   "source": [
    "# Evaluate `predictions` w.r.t. labels in `ground_truth` field\n",
    "view = dataset.match_tags(\"eval\")\n",
    "print(view.first())\n",
    "view.evaluate_detections(\n",
    "    \"881_40k_predict\", gt_field=\"detections\", eval_key=\"eval_881\"\n",
    ")\n",
    "\n"
   ]
  },
  {
   "cell_type": "code",
   "execution_count": 60,
   "metadata": {},
   "outputs": [
    {
     "name": "stdout",
     "output_type": "stream",
     "text": [
      "Dataset:     plane-dataset\n",
      "Media type:  image\n",
      "Num samples: 15378\n",
      "Tags:        ['capture-3-29', 'capture-3-30', 'capture-5-13', 'eval', 'model_eval', 'model_train', 'multi_class_eval', 'train']\n",
      "Sample fields:\n",
      "    id:                                                                       fiftyone.core.fields.ObjectIdField\n",
      "    filepath:                                                                 fiftyone.core.fields.StringField\n",
      "    tags:                                                                     fiftyone.core.fields.ListField(fiftyone.core.fields.StringField)\n",
      "    metadata:                                                                 fiftyone.core.fields.EmbeddedDocumentField(fiftyone.core.metadata.Metadata)\n",
      "    external_id:                                                              fiftyone.core.fields.EmbeddedDocumentField(fiftyone.core.labels.Classification)\n",
      "    icao24:                                                                   fiftyone.core.fields.EmbeddedDocumentField(fiftyone.core.labels.Classification)\n",
      "    labelbox_id:                                                              fiftyone.core.fields.StringField\n",
      "    detections:                                                               fiftyone.core.fields.EmbeddedDocumentField(fiftyone.core.labels.Detections)\n",
      "    auto_aug_predict:                                                         fiftyone.core.fields.EmbeddedDocumentField(fiftyone.core.labels.Detections)\n",
      "    auto_aug_predict_tiled:                                                   fiftyone.core.fields.EmbeddedDocumentField(fiftyone.core.labels.Detections)\n",
      "    auto_aug_eval_tp:                                                         fiftyone.core.fields.IntField\n",
      "    auto_aug_eval_fp:                                                         fiftyone.core.fields.IntField\n",
      "    auto_aug_eval_fn:                                                         fiftyone.core.fields.IntField\n",
      "    model_code:                                                               fiftyone.core.fields.EmbeddedDocumentField(fiftyone.core.labels.Classification)\n",
      "    manufacturer:                                                             fiftyone.core.fields.EmbeddedDocumentField(fiftyone.core.labels.Classification)\n",
      "    model_name:                                                               fiftyone.core.fields.EmbeddedDocumentField(fiftyone.core.labels.Classification)\n",
      "    aircraft_type:                                                            fiftyone.core.fields.EmbeddedDocumentField(fiftyone.core.labels.Classification)\n",
      "    engine_type:                                                              fiftyone.core.fields.EmbeddedDocumentField(fiftyone.core.labels.Classification)\n",
      "    num_engines:                                                              fiftyone.core.fields.EmbeddedDocumentField(fiftyone.core.labels.Classification)\n",
      "    num_seats:                                                                fiftyone.core.fields.EmbeddedDocumentField(fiftyone.core.labels.Classification)\n",
      "    aircraft_weight:                                                          fiftyone.core.fields.EmbeddedDocumentField(fiftyone.core.labels.Classification)\n",
      "    norm_model:                                                               fiftyone.core.fields.EmbeddedDocumentField(fiftyone.core.labels.Classification)\n",
      "    multi_class_detections:                                                   fiftyone.core.fields.EmbeddedDocumentField(fiftyone.core.labels.Detections)\n",
      "    multi_class_predict:                                                      fiftyone.core.fields.EmbeddedDocumentField(fiftyone.core.labels.Detections)\n",
      "    multi_class_100_predict #auto_aug_predict_tiled #multi_class_predict:     fiftyone.core.fields.EmbeddedDocumentField(fiftyone.core.labels.Detections)\n",
      "    multi_class_100_40k_predict #auto_aug_predict_tiled #multi_class_predict: fiftyone.core.fields.EmbeddedDocumentField(fiftyone.core.labels.Detections)\n",
      "    eval_multi2_tp:                                                           fiftyone.core.fields.IntField\n",
      "    eval_multi2_fp:                                                           fiftyone.core.fields.IntField\n",
      "    eval_multi2_fn:                                                           fiftyone.core.fields.IntField\n",
      "View stages:\n",
      "    1. MatchTags(tags=['multi_class_eval'], bool=True)\n",
      "Field 'eval_multi_new__tp' does not exist\n",
      "Field 'eval_multi_new__fp' does not exist\n",
      "Field 'eval_multi_new__fn' does not exist\n",
      "Evaluating detections...\n",
      " 100% |█████████████| 15378/15378 [50.8s elapsed, 0s remaining, 540.1 samples/s]      \n",
      "Performing IoU sweep...\n",
      " 100% |█████████████| 15378/15378 [50.1s elapsed, 0s remaining, 1.2K samples/s]      \n"
     ]
    }
   ],
   "source": [
    "# Evaluate the detections in the `predictions` field with respect to the\n",
    "# objects in the `ground_truth` field\n",
    "view = dataset.match_tags(\"multi_class_eval\")\n",
    "print(view)\n",
    "results = view.evaluate_detections(\n",
    "    \"multi_class_100_40k_predict #auto_aug_predict_tiled #multi_class_predict\", gt_field=\"multi_class_detections\", eval_key=\"eval_multi_new_\", compute_mAP=True\n",
    ")\n",
    "\n",
    "\n",
    "\n"
   ]
  },
  {
   "cell_type": "code",
   "execution_count": 61,
   "metadata": {},
   "outputs": [
    {
     "name": "stdout",
     "output_type": "stream",
     "text": [
      "                       precision    recall  f1-score   support\n",
      "\n",
      "              ERJ-170       0.86      0.72      0.78      2228\n",
      "                 A320       0.64      0.44      0.52      2030\n",
      "                 A321       0.40      0.69      0.51       806\n",
      "                 A319       0.61      0.48      0.54       728\n",
      "              737-800       0.54      0.33      0.41       670\n",
      "           Cessna Jet       1.00      0.02      0.03       520\n",
      "              737-700       0.75      0.91      0.82       420\n",
      "Bombardier Challenger       0.43      0.66      0.52       270\n",
      "              737-900       0.41      0.63      0.50       257\n",
      "               CRJ900       0.79      0.93      0.85       202\n",
      "           Hawker 400       0.00      0.00      0.00       181\n",
      "           Gulfstream       0.56      0.71      0.63       168\n",
      "              EMB-135       0.57      0.57      0.57       162\n",
      "              777-200       0.00      0.00      0.00       127\n",
      "        Learjet 45/60       0.00      0.00      0.00       118\n",
      "\n",
      "            micro avg       0.63      0.53      0.58      8887\n",
      "            macro avg       0.50      0.47      0.45      8887\n",
      "         weighted avg       0.65      0.53      0.55      8887\n",
      "\n",
      "TP: 5016\n",
      "FP: 4119\n",
      "FN: 4382\n",
      "mAP: 0.30090909839673596\n"
     ]
    },
    {
     "data": {
      "text/plain": []
     },
     "metadata": {},
     "output_type": "display_data"
    },
    {
     "data": {
      "text/plain": []
     },
     "metadata": {},
     "output_type": "display_data"
    },
    {
     "data": {
      "application/vnd.jupyter.widget-view+json": {
       "model_id": "a902f9811e6e42a4846e12ee834abe77",
       "version_major": 2,
       "version_minor": 0
      },
      "text/plain": [
       "FigureWidget({\n",
       "    'data': [{'hovertemplate': '<b>class: %{text}</b><br>recall: %{x}<br>precision: %{y}<extra>…"
      ]
     },
     "metadata": {},
     "output_type": "display_data"
    },
    {
     "data": {
      "text/plain": []
     },
     "metadata": {},
     "output_type": "display_data"
    },
    {
     "data": {
      "text/plain": []
     },
     "metadata": {},
     "output_type": "display_data"
    },
    {
     "data": {
      "application/vnd.jupyter.widget-view+json": {
       "model_id": "a882d062fd6d46b4bb6e01dedccb83f3",
       "version_major": 2,
       "version_minor": 0
      },
      "text/plain": [
       "FigureWidget({\n",
       "    'data': [{'mode': 'markers',\n",
       "              'opacity': 0.1,\n",
       "              'type': 'scatter',…"
      ]
     },
     "metadata": {},
     "output_type": "display_data"
    }
   ],
   "source": [
    "# Get the 10 most common classes in the dataset\n",
    "counts = view.count_values(\"multi_class_detections.detections.label\")\n",
    "classes = sorted(counts, key=counts.get, reverse=True)[:15]\n",
    "\n",
    "# Print a classification report for the top-10 classes\n",
    "results.print_report(classes=classes)\n",
    "\n",
    "# Print some statistics about the total TP/FP/FN counts\n",
    "print(\"TP: %d\" % dataset.sum(\"eval_multi_new__tp\"))\n",
    "print(\"FP: %d\" % dataset.sum(\"eval_multi_new__fp\"))\n",
    "print(\"FN: %d\" % dataset.sum(\"eval_multi_new__fn\"))\n",
    "\n",
    "\n",
    "print(\"mAP: {}\".format(results.mAP()))\n",
    "# 0.3957\n",
    "\n",
    "plot = results.plot_pr_curves(classes=classes)\n",
    "plot.show()\n",
    "\n",
    "plot = results.plot_confusion_matrix(classes=classes)\n",
    "plot.show()"
   ]
  },
  {
   "cell_type": "code",
   "execution_count": null,
   "metadata": {},
   "outputs": [],
   "source": [
    "session = fo.launch_app(dataset, auto=False)\n",
    "\n",
    "# Convert to evaluation patches\n",
    "eval_patches = view.to_evaluation_patches(\"eval\")\n",
    "print(eval_patches)\n",
    "\n",
    "# View patches in the App\n",
    "session.view = eval_patches"
   ]
  },
  {
   "cell_type": "markdown",
   "metadata": {},
   "source": [
    "### Low confidence sample"
   ]
  },
  {
   "cell_type": "code",
   "execution_count": null,
   "metadata": {},
   "outputs": [],
   "source": [
    "# Show samples with most false positives\n",
    "# Evaluate `predictions` w.r.t. labels in `ground_truth` field\n",
    "view = dataset.match_tags(\"eval\")\n",
    "print(view.first())\n",
    "eval_view = (\n",
    "    view\n",
    "    .sort_by(\"auto_aug_eval_fp\", reverse=True)\n",
    "    .filter_labels(\"auto_aug_predict_tiled\", F(\"auto_aug_eval\") == \"fp\")\n",
    ")\n",
    "session.view = eval_view"
   ]
  },
  {
   "cell_type": "markdown",
   "metadata": {},
   "source": [
    "### Fix Tags"
   ]
  },
  {
   "cell_type": "code",
   "execution_count": 52,
   "metadata": {},
   "outputs": [
    {
     "name": "stdout",
     "output_type": "stream",
     "text": [
      "Dataset:     plane-dataset\n",
      "Media type:  image\n",
      "Num samples: 2519\n",
      "Tags:        ['capture-3-29', 'capture-3-30', 'capture-5-13', 'eval', 'model_eval', 'model_train', 'multi_class_eval', 'train']\n",
      "Sample fields:\n",
      "    id:                                                                       fiftyone.core.fields.ObjectIdField\n",
      "    filepath:                                                                 fiftyone.core.fields.StringField\n",
      "    tags:                                                                     fiftyone.core.fields.ListField(fiftyone.core.fields.StringField)\n",
      "    metadata:                                                                 fiftyone.core.fields.EmbeddedDocumentField(fiftyone.core.metadata.Metadata)\n",
      "    external_id:                                                              fiftyone.core.fields.EmbeddedDocumentField(fiftyone.core.labels.Classification)\n",
      "    icao24:                                                                   fiftyone.core.fields.EmbeddedDocumentField(fiftyone.core.labels.Classification)\n",
      "    labelbox_id:                                                              fiftyone.core.fields.StringField\n",
      "    detections:                                                               fiftyone.core.fields.EmbeddedDocumentField(fiftyone.core.labels.Detections)\n",
      "    auto_aug_predict:                                                         fiftyone.core.fields.EmbeddedDocumentField(fiftyone.core.labels.Detections)\n",
      "    auto_aug_predict_tiled:                                                   fiftyone.core.fields.EmbeddedDocumentField(fiftyone.core.labels.Detections)\n",
      "    auto_aug_eval_tp:                                                         fiftyone.core.fields.IntField\n",
      "    auto_aug_eval_fp:                                                         fiftyone.core.fields.IntField\n",
      "    auto_aug_eval_fn:                                                         fiftyone.core.fields.IntField\n",
      "    model_code:                                                               fiftyone.core.fields.EmbeddedDocumentField(fiftyone.core.labels.Classification)\n",
      "    manufacturer:                                                             fiftyone.core.fields.EmbeddedDocumentField(fiftyone.core.labels.Classification)\n",
      "    model_name:                                                               fiftyone.core.fields.EmbeddedDocumentField(fiftyone.core.labels.Classification)\n",
      "    aircraft_type:                                                            fiftyone.core.fields.EmbeddedDocumentField(fiftyone.core.labels.Classification)\n",
      "    engine_type:                                                              fiftyone.core.fields.EmbeddedDocumentField(fiftyone.core.labels.Classification)\n",
      "    num_engines:                                                              fiftyone.core.fields.EmbeddedDocumentField(fiftyone.core.labels.Classification)\n",
      "    num_seats:                                                                fiftyone.core.fields.EmbeddedDocumentField(fiftyone.core.labels.Classification)\n",
      "    aircraft_weight:                                                          fiftyone.core.fields.EmbeddedDocumentField(fiftyone.core.labels.Classification)\n",
      "    norm_model:                                                               fiftyone.core.fields.EmbeddedDocumentField(fiftyone.core.labels.Classification)\n",
      "    multi_class_detections:                                                   fiftyone.core.fields.EmbeddedDocumentField(fiftyone.core.labels.Detections)\n",
      "    multi_class_predict:                                                      fiftyone.core.fields.EmbeddedDocumentField(fiftyone.core.labels.Detections)\n",
      "    multi_class_100_predict #auto_aug_predict_tiled #multi_class_predict:     fiftyone.core.fields.EmbeddedDocumentField(fiftyone.core.labels.Detections)\n",
      "    multi_class_100_40k_predict #auto_aug_predict_tiled #multi_class_predict: fiftyone.core.fields.EmbeddedDocumentField(fiftyone.core.labels.Detections)\n",
      "    eval_multi2_tp:                                                           fiftyone.core.fields.IntField\n",
      "    eval_multi2_fp:                                                           fiftyone.core.fields.IntField\n",
      "    eval_multi2_fn:                                                           fiftyone.core.fields.IntField\n",
      "View stages:\n",
      "    1. MatchTags(tags=['multi_class_eval'], bool=True)\n"
     ]
    }
   ],
   "source": [
    "eval_view = dataset.match_tags(\"multi_class_eval\")\n",
    "print(eval_view)\n",
    "for sample in eval_view:\n",
    "    try:\n",
    "        sample.tags = list(filter(lambda x: x != \"multi_class_eval\", sample.tags))\n",
    "        sample.save()\n",
    "    except ValueError:\n",
    "        pass"
   ]
  },
  {
   "cell_type": "code",
   "execution_count": 53,
   "metadata": {},
   "outputs": [
    {
     "name": "stdout",
     "output_type": "stream",
     "text": [
      "737-400: 46\n",
      "737-700: 568\n",
      "737-800: 1198\n",
      "737-900: 567\n",
      "757-200: 100\n",
      "767-200: 40\n",
      "777-200: 127\n",
      "A300: 108\n",
      "A319: 1032\n",
      "A320: 3949\n",
      "A321: 1404\n",
      "Bombardier Challenger: 388\n",
      "CRJ200: 44\n",
      "CRJ550: 110\n",
      "CRJ700: 107\n",
      "CRJ900: 400\n",
      "Cessna Jet: 799\n",
      "EMB-135: 195\n",
      "EMB-505: 117\n",
      "ERJ-170: 3370\n",
      "Falcon: 41\n",
      "Gulfstream: 234\n",
      "Hawker 400: 192\n",
      "Hawker 800: 108\n",
      "HondaJet: 45\n",
      "King Air: 53\n",
      "LearJet: 87\n",
      "Learjet 45/60: 118\n",
      "Pilatus PC-12: 187\n",
      "Piper Cheyenne: 71\n"
     ]
    }
   ],
   "source": [
    "norm_models = dataset.distinct(\"norm_model.label\")\n",
    "for norm_model in norm_models:\n",
    "    view = dataset.filter_labels(\"norm_model\", (F(\"label\") == norm_model)).match(F(\"auto_aug_predict_tiled.detections\").length()>0).match_tags(\"multi_class_train\",bool=False)\n",
    "    print(\"{}: {}\".format(norm_model,len(view)))\n",
    "    if len(view) >= 100:\n",
    "        for sample in view:\n",
    "            sample.tags.append(\"multi_class_eval\")\n",
    "            sample.save()"
   ]
  },
  {
   "cell_type": "code",
   "execution_count": 59,
   "metadata": {},
   "outputs": [
    {
     "name": "stdout",
     "output_type": "stream",
     "text": [
      "Dataset:     plane-dataset\n",
      "Media type:  image\n",
      "Num samples: 15378\n",
      "Tags:        ['capture-3-29', 'capture-3-30', 'capture-5-13', 'eval', 'model_eval', 'model_train', 'multi_class_eval', 'train']\n",
      "Sample fields:\n",
      "    id:                                                                       fiftyone.core.fields.ObjectIdField\n",
      "    filepath:                                                                 fiftyone.core.fields.StringField\n",
      "    tags:                                                                     fiftyone.core.fields.ListField(fiftyone.core.fields.StringField)\n",
      "    metadata:                                                                 fiftyone.core.fields.EmbeddedDocumentField(fiftyone.core.metadata.Metadata)\n",
      "    external_id:                                                              fiftyone.core.fields.EmbeddedDocumentField(fiftyone.core.labels.Classification)\n",
      "    icao24:                                                                   fiftyone.core.fields.EmbeddedDocumentField(fiftyone.core.labels.Classification)\n",
      "    labelbox_id:                                                              fiftyone.core.fields.StringField\n",
      "    detections:                                                               fiftyone.core.fields.EmbeddedDocumentField(fiftyone.core.labels.Detections)\n",
      "    auto_aug_predict:                                                         fiftyone.core.fields.EmbeddedDocumentField(fiftyone.core.labels.Detections)\n",
      "    auto_aug_predict_tiled:                                                   fiftyone.core.fields.EmbeddedDocumentField(fiftyone.core.labels.Detections)\n",
      "    auto_aug_eval_tp:                                                         fiftyone.core.fields.IntField\n",
      "    auto_aug_eval_fp:                                                         fiftyone.core.fields.IntField\n",
      "    auto_aug_eval_fn:                                                         fiftyone.core.fields.IntField\n",
      "    model_code:                                                               fiftyone.core.fields.EmbeddedDocumentField(fiftyone.core.labels.Classification)\n",
      "    manufacturer:                                                             fiftyone.core.fields.EmbeddedDocumentField(fiftyone.core.labels.Classification)\n",
      "    model_name:                                                               fiftyone.core.fields.EmbeddedDocumentField(fiftyone.core.labels.Classification)\n",
      "    aircraft_type:                                                            fiftyone.core.fields.EmbeddedDocumentField(fiftyone.core.labels.Classification)\n",
      "    engine_type:                                                              fiftyone.core.fields.EmbeddedDocumentField(fiftyone.core.labels.Classification)\n",
      "    num_engines:                                                              fiftyone.core.fields.EmbeddedDocumentField(fiftyone.core.labels.Classification)\n",
      "    num_seats:                                                                fiftyone.core.fields.EmbeddedDocumentField(fiftyone.core.labels.Classification)\n",
      "    aircraft_weight:                                                          fiftyone.core.fields.EmbeddedDocumentField(fiftyone.core.labels.Classification)\n",
      "    norm_model:                                                               fiftyone.core.fields.EmbeddedDocumentField(fiftyone.core.labels.Classification)\n",
      "    multi_class_detections:                                                   fiftyone.core.fields.EmbeddedDocumentField(fiftyone.core.labels.Detections)\n",
      "    multi_class_predict:                                                      fiftyone.core.fields.EmbeddedDocumentField(fiftyone.core.labels.Detections)\n",
      "    multi_class_100_predict #auto_aug_predict_tiled #multi_class_predict:     fiftyone.core.fields.EmbeddedDocumentField(fiftyone.core.labels.Detections)\n",
      "    multi_class_100_40k_predict #auto_aug_predict_tiled #multi_class_predict: fiftyone.core.fields.EmbeddedDocumentField(fiftyone.core.labels.Detections)\n",
      "    eval_multi2_tp:                                                           fiftyone.core.fields.IntField\n",
      "    eval_multi2_fp:                                                           fiftyone.core.fields.IntField\n",
      "    eval_multi2_fn:                                                           fiftyone.core.fields.IntField\n",
      "View stages:\n",
      "    1. MatchTags(tags=['multi_class_eval'], bool=True)\n"
     ]
    }
   ],
   "source": [
    "eval_view = dataset.match_tags(\"multi_class_eval\")\n",
    "print(eval_view)"
   ]
  },
  {
   "cell_type": "code",
   "execution_count": null,
   "metadata": {},
   "outputs": [],
   "source": []
  }
 ],
 "metadata": {
  "kernelspec": {
   "display_name": "Python 3",
   "language": "python",
   "name": "python3"
  },
  "language_info": {
   "codemirror_mode": {
    "name": "ipython",
    "version": 3
   },
   "file_extension": ".py",
   "mimetype": "text/x-python",
   "name": "python",
   "nbconvert_exporter": "python",
   "pygments_lexer": "ipython3",
   "version": "3.6.9"
  }
 },
 "nbformat": 4,
 "nbformat_minor": 2
}
