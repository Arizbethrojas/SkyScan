{
 "cells": [
  {
   "cell_type": "code",
   "execution_count": 14,
   "metadata": {},
   "outputs": [],
   "source": [
    "dataset_name = \"plane-dataset\" # Name of the Voxel51 Dataset to use"
   ]
  },
  {
   "cell_type": "markdown",
   "metadata": {},
   "source": [
    "### Load the Voxel51 Dataset"
   ]
  },
  {
   "cell_type": "code",
   "execution_count": 22,
   "metadata": {},
   "outputs": [],
   "source": [
    "#config\n",
    "import fiftyone as fo\n",
    "from fiftyone import ViewField as F\n",
    "import os\n",
    "import numpy as np\n",
    "import matplotlib.pyplot as plt\n",
    "\n",
    "\n",
    "dataset = fo.load_dataset(dataset_name)\n",
    "dataset.reload()"
   ]
  },
  {
   "cell_type": "markdown",
   "metadata": {},
   "source": [
    "### Browse the entire Voxel51 Dataset"
   ]
  },
  {
   "cell_type": "code",
   "execution_count": 38,
   "metadata": {},
   "outputs": [
    {
     "name": "stdout",
     "output_type": "stream",
     "text": [
      "Session launched. Run `session.show()` to open the App in a cell output.\n"
     ]
    }
   ],
   "source": [
    "dataset.reload()\n",
    "session = fo.launch_app(dataset, auto=False)"
   ]
  },
  {
   "cell_type": "markdown",
   "metadata": {},
   "source": [
    "### Browse a subsection of the Voxel51 Dataset"
   ]
  },
  {
   "cell_type": "code",
   "execution_count": 4,
   "metadata": {},
   "outputs": [
    {
     "name": "stdout",
     "output_type": "stream",
     "text": [
      "Dataset:     plane-dataset\n",
      "Media type:  image\n",
      "Num samples: 11204\n",
      "Tags:        ['capture-3-29', 'capture-3-30', 'capture-5-13', 'eval', 'model_eval', 'model_train', 'multi_class_eval', 'multi_class_train', 'train']\n",
      "Sample fields:\n",
      "    id:                                                                       fiftyone.core.fields.ObjectIdField\n",
      "    filepath:                                                                 fiftyone.core.fields.StringField\n",
      "    tags:                                                                     fiftyone.core.fields.ListField(fiftyone.core.fields.StringField)\n",
      "    metadata:                                                                 fiftyone.core.fields.EmbeddedDocumentField(fiftyone.core.metadata.Metadata)\n",
      "    external_id:                                                              fiftyone.core.fields.EmbeddedDocumentField(fiftyone.core.labels.Classification)\n",
      "    icao24:                                                                   fiftyone.core.fields.EmbeddedDocumentField(fiftyone.core.labels.Classification)\n",
      "    labelbox_id:                                                              fiftyone.core.fields.StringField\n",
      "    detections:                                                               fiftyone.core.fields.EmbeddedDocumentField(fiftyone.core.labels.Detections)\n",
      "    auto_aug_predict:                                                         fiftyone.core.fields.EmbeddedDocumentField(fiftyone.core.labels.Detections)\n",
      "    auto_aug_predict_tiled:                                                   fiftyone.core.fields.EmbeddedDocumentField(fiftyone.core.labels.Detections)\n",
      "    auto_aug_eval_tp:                                                         fiftyone.core.fields.IntField\n",
      "    auto_aug_eval_fp:                                                         fiftyone.core.fields.IntField\n",
      "    auto_aug_eval_fn:                                                         fiftyone.core.fields.IntField\n",
      "    model_code:                                                               fiftyone.core.fields.EmbeddedDocumentField(fiftyone.core.labels.Classification)\n",
      "    manufacturer:                                                             fiftyone.core.fields.EmbeddedDocumentField(fiftyone.core.labels.Classification)\n",
      "    model_name:                                                               fiftyone.core.fields.EmbeddedDocumentField(fiftyone.core.labels.Classification)\n",
      "    aircraft_type:                                                            fiftyone.core.fields.EmbeddedDocumentField(fiftyone.core.labels.Classification)\n",
      "    engine_type:                                                              fiftyone.core.fields.EmbeddedDocumentField(fiftyone.core.labels.Classification)\n",
      "    num_engines:                                                              fiftyone.core.fields.EmbeddedDocumentField(fiftyone.core.labels.Classification)\n",
      "    num_seats:                                                                fiftyone.core.fields.EmbeddedDocumentField(fiftyone.core.labels.Classification)\n",
      "    aircraft_weight:                                                          fiftyone.core.fields.EmbeddedDocumentField(fiftyone.core.labels.Classification)\n",
      "    norm_model:                                                               fiftyone.core.fields.EmbeddedDocumentField(fiftyone.core.labels.Classification)\n",
      "    multi_class_detections:                                                   fiftyone.core.fields.EmbeddedDocumentField(fiftyone.core.labels.Detections)\n",
      "    multi_class_predict:                                                      fiftyone.core.fields.EmbeddedDocumentField(fiftyone.core.labels.Detections)\n",
      "    multi_class_100_predict #auto_aug_predict_tiled #multi_class_predict:     fiftyone.core.fields.EmbeddedDocumentField(fiftyone.core.labels.Detections)\n",
      "    multi_class_100_40k_predict #auto_aug_predict_tiled #multi_class_predict: fiftyone.core.fields.EmbeddedDocumentField(fiftyone.core.labels.Detections)\n",
      "    eval_multi2_tp:                                                           fiftyone.core.fields.IntField\n",
      "    eval_multi2_fp:                                                           fiftyone.core.fields.IntField\n",
      "    eval_multi2_fn:                                                           fiftyone.core.fields.IntField\n",
      "    eval_multi_new__tp:                                                       fiftyone.core.fields.IntField\n",
      "    eval_multi_new__fp:                                                       fiftyone.core.fields.IntField\n",
      "    eval_multi_new__fn:                                                       fiftyone.core.fields.IntField\n",
      "    multi_class_split_predict:                                                fiftyone.core.fields.EmbeddedDocumentField(fiftyone.core.labels.Detections)\n",
      "View stages:\n",
      "    1. Match(filter={'$expr': {'$gt': [...]}})\n"
     ]
    }
   ],
   "source": [
    "#view = dataset.exists(\"training\")\n",
    "\n",
    "# Veiw samples where there is no label\n",
    "# view = dataset.match({\"model\": {\"$exists\": False, \"$eq\": None}})\n",
    "\n",
    "# View samples with a tag\n",
    "view = dataset.match(F(\"multi_class_detections.detections\").length()>0)\n",
    "#view = dataset.match_tags(\"train\")\n",
    "\n",
    "print(view)\n",
    "\n",
    "session.view = view\n"
   ]
  },
  {
   "cell_type": "markdown",
   "metadata": {},
   "source": [
    "### Add Tags to Selected Samples\n",
    "Use the browser to select samples and add tags to them"
   ]
  },
  {
   "cell_type": "code",
   "execution_count": null,
   "metadata": {},
   "outputs": [],
   "source": [
    "# Create a view containing only the selected samples\n",
    "selected_view = dataset.select(session.selected)\n",
    "print(selected_view)\n",
    "for sample in selected_view:\n",
    "    sample.tags.append(\"training\")\n",
    "    sample.save() "
   ]
  },
  {
   "cell_type": "markdown",
   "metadata": {},
   "source": [
    "### Remove Tags to Selected Samples\n",
    "Use the browser to select samples and remove tags from them"
   ]
  },
  {
   "cell_type": "code",
   "execution_count": null,
   "metadata": {},
   "outputs": [],
   "source": [
    "# Create a view containing only the selected samples\n",
    "selected_view = dataset.select(session.selected)\n",
    "print(selected_view)\n",
    "for sample in selected_view:\n",
    "    sample.tags.remove(\"eval\")\n",
    "    sample.save() "
   ]
  },
  {
   "cell_type": "markdown",
   "metadata": {},
   "source": [
    "### Add a Tag to All Samples with a given Label Field"
   ]
  },
  {
   "cell_type": "code",
   "execution_count": null,
   "metadata": {},
   "outputs": [],
   "source": [
    "view = dataset.exists(\"detections\")\n",
    "print(view)\n",
    "for sample in view:\n",
    "    sample.tags.append(\"training\")\n",
    "    sample.save() "
   ]
  },
  {
   "cell_type": "markdown",
   "metadata": {},
   "source": [
    "### Add a Tag to All Samples in a Dataset"
   ]
  },
  {
   "cell_type": "code",
   "execution_count": null,
   "metadata": {},
   "outputs": [],
   "source": [
    "for sample in dataset:\n",
    "    sample.tags.append(\"capture-5-13\")\n",
    "    sample.save() "
   ]
  },
  {
   "cell_type": "markdown",
   "metadata": {},
   "source": [
    "### Number of Unique Aircraft Bodies per Normalized Model"
   ]
  },
  {
   "cell_type": "code",
   "execution_count": 12,
   "metadata": {},
   "outputs": [
    {
     "name": "stdout",
     "output_type": "stream",
     "text": [
      "737-400,1,46\n",
      "737-700,16,769\n",
      "737-800,24,1299\n",
      "737-900,12,668\n",
      "757-200,3,200\n",
      "767-200,1,40\n",
      "777-200,2,127\n",
      "A300,2,108\n",
      "A319,17,1132\n",
      "A320,72,4051\n",
      "A321,27,1506\n",
      "Bombardier Challenger,10,488\n",
      "CRJ200,1,44\n",
      "CRJ550,2,111\n",
      "CRJ700,5,207\n",
      "CRJ900,9,501\n",
      "Cessna Jet,17,900\n",
      "EMB-135,8,295\n",
      "EMB-505,6,217\n",
      "ERJ-170,63,3484\n",
      "Falcon,1,41\n",
      "Gulfstream,8,334\n",
      "Hawker 400,5,192\n",
      "Hawker 800,4,212\n",
      "HondaJet,1,45\n",
      "King Air,1,53\n",
      "LearJet,2,87\n",
      "Learjet 45/60,3,118\n",
      "Pilatus PC-12,4,287\n",
      "Piper Cheyenne,1,71\n"
     ]
    }
   ],
   "source": [
    "\n",
    "norm_models = dataset.distinct(\"norm_model.label\")\n",
    "for norm_model in norm_models:\n",
    "    view = dataset.filter_labels(\"norm_model\", (F(\"label\") == norm_model)).select_fields(\"icao24\")\n",
    "    unique_aircraft = view.distinct(\"icao24.label\")\n",
    "    \n",
    "    #print( unique_aircraft)\n",
    "    total_predictions=0\n",
    "    for icao24 in unique_aircraft:\n",
    "        plane_view = dataset.filter_labels(\"icao24\", (F(\"label\") == icao24))\n",
    "\n",
    "        for sample in plane_view:\n",
    "            #print(sample[\"auto_aug_predict_tiled\"])\n",
    "            total_predictions = total_predictions + len(sample[\"auto_aug_predict_tiled\"].detections)\n",
    "\n",
    "    #print(\"{},{},{}\".format(norm_model,len(unique_aircraft),total_predictions))     "
   ]
  },
  {
   "cell_type": "code",
   "execution_count": 64,
   "metadata": {},
   "outputs": [
    {
     "name": "stdout",
     "output_type": "stream",
     "text": [
      "737-700 Total: 16 Trian: 12 Test: 4\n",
      "737-800 Total: 24 Trian: 18 Test: 6\n",
      "737-900 Total: 12 Trian: 9 Test: 3\n",
      "757-200 Total: 3 Trian: 2 Test: 1\n",
      "777-200 Total: 2 Trian: 1 Test: 1\n",
      "A300 Total: 2 Trian: 1 Test: 1\n",
      "A319 Total: 17 Trian: 12 Test: 5\n",
      "A320 Total: 72 Trian: 54 Test: 18\n",
      "A321 Total: 27 Trian: 20 Test: 7\n",
      "Bombardier Challenger Total: 10 Trian: 7 Test: 3\n",
      "CRJ550 Total: 2 Trian: 1 Test: 1\n",
      "CRJ700 Total: 5 Trian: 3 Test: 2\n",
      "CRJ900 Total: 9 Trian: 6 Test: 3\n",
      "Cessna Jet Total: 17 Trian: 12 Test: 5\n",
      "EMB-135 Total: 8 Trian: 6 Test: 2\n",
      "EMB-505 Total: 6 Trian: 4 Test: 2\n",
      "ERJ-170 Total: 63 Trian: 47 Test: 16\n",
      "Gulfstream Total: 8 Trian: 6 Test: 2\n",
      "Hawker 400 Total: 5 Trian: 3 Test: 2\n",
      "Hawker 800 Total: 4 Trian: 3 Test: 1\n",
      "LearJet Total: 2 Trian: 1 Test: 1\n",
      "Learjet 45/60 Total: 3 Trian: 2 Test: 1\n",
      "Pilatus PC-12 Total: 4 Trian: 3 Test: 1\n"
     ]
    }
   ],
   "source": [
    "import math\n",
    "norm_models = dataset.distinct(\"norm_model.label\")\n",
    "for norm_model in norm_models:\n",
    "    view = dataset.filter_labels(\"norm_model\", (F(\"label\") == norm_model)).select_fields(\"icao24\")\n",
    "    unique_aircraft = view.distinct(\"icao24.label\")\n",
    "    if len(unique_aircraft) > 1:\n",
    "        print(\"{} Total: {} Trian: {} Test: {}\".format(norm_model,len(unique_aircraft),math.floor(len(unique_aircraft)*.75),math.ceil(len(unique_aircraft)*.25)))     \n",
    "   "
   ]
  },
  {
   "cell_type": "code",
   "execution_count": 21,
   "metadata": {},
   "outputs": [
    {
     "name": "stdout",
     "output_type": "stream",
     "text": [
      "737-400: 46\n",
      "737-700: 70\n",
      "737-800: 36\n",
      "737-900: 67\n",
      "757-200: 46\n",
      "767-200: 40\n",
      "777-200: 58\n",
      "A300: 49\n",
      "A319: 44\n",
      "A320: 50\n",
      "A321: 62\n",
      "Bombardier Challenger: 50\n",
      "CRJ200: 44\n",
      "CRJ550: 51\n",
      "CRJ700: 68\n",
      "CRJ900: 59\n",
      "Cessna Jet: 66\n",
      "EMB-135: 52\n",
      "EMB-505: 66\n",
      "ERJ-170: 108\n",
      "Falcon: 41\n",
      "Gulfstream: 69\n",
      "Hawker 400: 44\n",
      "Hawker 800: 65\n",
      "HondaJet: 45\n",
      "King Air: 53\n",
      "LearJet: 64\n",
      "Learjet 45/60: 54\n",
      "Pilatus PC-12: 69\n",
      "Piper Cheyenne: 71\n"
     ]
    }
   ],
   "source": [
    "norm_models = dataset.distinct(\"norm_model.label\")\n",
    "for norm_model in norm_models:\n",
    "    view = dataset.filter_labels(\"norm_model\", (F(\"label\") == norm_model)).select_fields(\"icao24\")\n",
    "    unique_aircraft = view.distinct(\"icao24.label\")\n",
    "\n",
    "    #print( unique_aircraft)\n",
    "    total_predictions=0\n",
    "\n",
    "    plane_view = dataset.filter_labels(\"icao24\", (F(\"label\") == unique_aircraft[0]))\n",
    "\n",
    "    for sample in plane_view:\n",
    "        #print(sample[\"auto_aug_predict_tiled\"])\n",
    "        total_predictions = total_predictions + len(sample[\"auto_aug_predict_tiled\"].detections)\n",
    "\n",
    "    print(\"{}: {}\".format(norm_model,total_predictions))  "
   ]
  },
  {
   "cell_type": "code",
   "execution_count": 26,
   "metadata": {},
   "outputs": [
    {
     "name": "stdout",
     "output_type": "stream",
     "text": [
      "737-400: 0\n",
      "737-700: 195\n",
      "737-800: 322\n",
      "737-900: 113\n",
      "757-200: 29\n",
      "767-200: 0\n",
      "777-200: 69\n",
      "A300: 0\n",
      "A319: 245\n",
      "A320: 668\n",
      "A321: 235\n",
      "Bombardier Challenger: 137\n",
      "CRJ200: 0\n",
      "CRJ550: 0\n",
      "CRJ700: 46\n",
      "CRJ900: 49\n",
      "Cessna Jet: 221\n",
      "EMB-135: 102\n",
      "EMB-505: 39\n",
      "ERJ-170: 751\n",
      "Falcon: 0\n",
      "Gulfstream: 32\n",
      "Hawker 400: 82\n",
      "Hawker 800: 61\n",
      "HondaJet: 0\n",
      "King Air: 0\n",
      "LearJet: 23\n",
      "Learjet 45/60: 28\n",
      "Pilatus PC-12: 0\n",
      "Piper Cheyenne: 0\n"
     ]
    }
   ],
   "source": [
    "norm_models = dataset.distinct(\"norm_model.label\")\n",
    "for norm_model in norm_models:\n",
    "    view = dataset.match_tags(\"multi_class_eval\").filter_labels(\"norm_model\", (F(\"label\") == norm_model)).match(F(\"auto_aug_predict_tiled.detections\").length()>0)\n",
    "    print(\"{}: {}\".format(norm_model,len(view)))\n"
   ]
  },
  {
   "cell_type": "code",
   "execution_count": 33,
   "metadata": {},
   "outputs": [
    {
     "name": "stdout",
     "output_type": "stream",
     "text": [
      "20\n"
     ]
    }
   ],
   "source": [
    "norm_models = dataset.match_tags(\"multi_class_eval\").distinct(\"norm_model.label\")\n",
    "print(\"{}\".format(len(norm_models)))"
   ]
  },
  {
   "cell_type": "code",
   "execution_count": 40,
   "metadata": {},
   "outputs": [
    {
     "name": "stdout",
     "output_type": "stream",
     "text": [
      "737-400: train - 0 / eval - 0\n",
      "737-700: train - 573 / eval - 195\n",
      "737-800: train - 976 / eval - 322\n",
      "737-900: train - 554 / eval - 113\n",
      "757-200: train - 110 / eval - 90\n",
      "767-200: train - 0 / eval - 0\n",
      "777-200: train - 58 / eval - 69\n",
      "A300: train - 49 / eval - 59\n",
      "A319: train - 887 / eval - 245\n",
      "A320: train - 3045 / eval - 1004\n",
      "A321: train - 1209 / eval - 295\n",
      "Bombardier Challenger: train - 351 / eval - 137\n",
      "CRJ200: train - 0 / eval - 0\n",
      "CRJ550: train - 51 / eval - 59\n",
      "CRJ700: train - 161 / eval - 46\n",
      "CRJ900: train - 323 / eval - 177\n",
      "Cessna Jet: train - 630 / eval - 269\n",
      "EMB-135: train - 193 / eval - 102\n",
      "EMB-505: train - 178 / eval - 39\n",
      "ERJ-170: train - 2719 / eval - 751\n",
      "Falcon: train - 0 / eval - 0\n",
      "Gulfstream: train - 302 / eval - 32\n",
      "Hawker 400: train - 110 / eval - 82\n",
      "Hawker 800: train - 147 / eval - 61\n",
      "HondaJet: train - 0 / eval - 0\n",
      "King Air: train - 0 / eval - 0\n",
      "LearJet: train - 64 / eval - 23\n",
      "Learjet 45/60: train - 90 / eval - 28\n",
      "Pilatus PC-12: train - 222 / eval - 65\n",
      "Piper Cheyenne: train - 0 / eval - 0\n"
     ]
    }
   ],
   "source": [
    "norm_models = dataset.distinct(\"norm_model.label\")\n",
    "for norm_model in norm_models:\n",
    "    view = dataset.match_tags(\"multi_class_eval\").filter_labels(\"norm_model\", (F(\"label\") == norm_model)).match(F(\"auto_aug_predict_tiled.detections\").length()>0)\n",
    "    eval_len = len(view)\n",
    "    view = dataset.match_tags(\"multi_class_train\").filter_labels(\"norm_model\", (F(\"label\") == norm_model)).match(F(\"auto_aug_predict_tiled.detections\").length()>0)\n",
    "    train_len = len(view)\n",
    "    print(\"{}: train - {} / eval - {}\".format(norm_model,train_len,eval_len))"
   ]
  },
  {
   "cell_type": "code",
   "execution_count": 39,
   "metadata": {},
   "outputs": [
    {
     "name": "stdout",
     "output_type": "stream",
     "text": [
      "737-700 Total: 16 Train: 12 aircraft, 573 images /  Eval: 4 aircraft, 195 images\n",
      "737-800 Total: 24 Train: 18 aircraft, 976 images /  Eval: 6 aircraft, 322 images\n",
      "737-900 Total: 12 Train: 9 aircraft, 554 images /  Eval: 3 aircraft, 113 images\n",
      "757-200 Total: 3 Train: 2 aircraft, 110 images /  Eval: 1 aircraft, 90 images\n",
      "777-200 Total: 2 Train: 1 aircraft, 58 images /  Eval: 1 aircraft, 69 images\n",
      "A300 Total: 2 Train: 1 aircraft, 49 images /  Eval: 1 aircraft, 59 images\n",
      "A319 Total: 17 Train: 12 aircraft, 887 images /  Eval: 5 aircraft, 245 images\n",
      "A320 Total: 72 Train: 54 aircraft, 3045 images /  Eval: 18 aircraft, 1004 images\n",
      "A321 Total: 27 Train: 20 aircraft, 1209 images /  Eval: 7 aircraft, 295 images\n",
      "Bombardier Challenger Total: 10 Train: 7 aircraft, 351 images /  Eval: 3 aircraft, 137 images\n",
      "CRJ550 Total: 2 Train: 1 aircraft, 51 images /  Eval: 1 aircraft, 59 images\n",
      "CRJ700 Total: 5 Train: 3 aircraft, 161 images /  Eval: 2 aircraft, 46 images\n",
      "CRJ900 Total: 9 Train: 6 aircraft, 323 images /  Eval: 3 aircraft, 177 images\n",
      "Cessna Jet Total: 17 Train: 12 aircraft, 630 images /  Eval: 5 aircraft, 269 images\n",
      "EMB-135 Total: 8 Train: 6 aircraft, 193 images /  Eval: 2 aircraft, 102 images\n",
      "EMB-505 Total: 6 Train: 4 aircraft, 178 images /  Eval: 2 aircraft, 39 images\n",
      "ERJ-170 Total: 63 Train: 47 aircraft, 2719 images /  Eval: 16 aircraft, 751 images\n",
      "Gulfstream Total: 8 Train: 6 aircraft, 302 images /  Eval: 2 aircraft, 32 images\n",
      "Hawker 400 Total: 5 Train: 3 aircraft, 110 images /  Eval: 2 aircraft, 82 images\n",
      "Hawker 800 Total: 4 Train: 3 aircraft, 147 images /  Eval: 1 aircraft, 61 images\n",
      "LearJet Total: 2 Train: 1 aircraft, 64 images /  Eval: 1 aircraft, 23 images\n",
      "Learjet 45/60 Total: 3 Train: 2 aircraft, 90 images /  Eval: 1 aircraft, 28 images\n",
      "Pilatus PC-12 Total: 4 Train: 3 aircraft, 222 images /  Eval: 1 aircraft, 65 images\n"
     ]
    }
   ],
   "source": [
    "import math\n",
    "norm_models = dataset.distinct(\"norm_model.label\")\n",
    "for norm_model in norm_models:\n",
    "    view = dataset.filter_labels(\"norm_model\", (F(\"label\") == norm_model)).select_fields(\"icao24\").shuffle()\n",
    "    unique_aircraft = view.distinct(\"icao24.label\")\n",
    "    if len(unique_aircraft) > 1:\n",
    "        train_aircraft = unique_aircraft[:math.floor(len(unique_aircraft)*.75)]\n",
    "        total_detect = 0\n",
    "        for aircraft in train_aircraft:\n",
    "            view = dataset.filter_labels(\"icao24\", (F(\"label\") == aircraft)).match(F(\"multi_class_detections.detections\").length()>0)\n",
    "            total_detect = len(view) + total_detect\n",
    "        actual_train = total_detect\n",
    "        eval_aircraft = unique_aircraft[math.floor(len(unique_aircraft)*.75):]\n",
    "        total_detect = 0\n",
    "        for aircraft in eval_aircraft:\n",
    "            view = dataset.filter_labels(\"icao24\", (F(\"label\") == aircraft)).match(F(\"multi_class_detections.detections\").length()>0)\n",
    "            total_detect = len(view) + total_detect\n",
    "        actual_eval = total_detect\n",
    "        print(\"{} Total: {} Train: {} aircraft, {} images /  Eval: {} aircraft, {} images\".format(norm_model,len(unique_aircraft),len(train_aircraft),actual_train,len(eval_aircraft), actual_eval))     \n"
   ]
  },
  {
   "cell_type": "markdown",
   "metadata": {},
   "source": [
    "### Add Detection Evaluation"
   ]
  },
  {
   "cell_type": "code",
   "execution_count": 25,
   "metadata": {},
   "outputs": [
    {
     "name": "stdout",
     "output_type": "stream",
     "text": [
      "Dataset:     plane-dataset\n",
      "Media type:  image\n",
      "Num samples: 3447\n",
      "Tags:        ['capture-3-29', 'capture-3-30', 'capture-5-13', 'eval', 'model_eval', 'multi_class_eval', 'train']\n",
      "Sample fields:\n",
      "    id:                                                                       fiftyone.core.fields.ObjectIdField\n",
      "    filepath:                                                                 fiftyone.core.fields.StringField\n",
      "    tags:                                                                     fiftyone.core.fields.ListField(fiftyone.core.fields.StringField)\n",
      "    metadata:                                                                 fiftyone.core.fields.EmbeddedDocumentField(fiftyone.core.metadata.Metadata)\n",
      "    external_id:                                                              fiftyone.core.fields.EmbeddedDocumentField(fiftyone.core.labels.Classification)\n",
      "    icao24:                                                                   fiftyone.core.fields.EmbeddedDocumentField(fiftyone.core.labels.Classification)\n",
      "    labelbox_id:                                                              fiftyone.core.fields.StringField\n",
      "    detections:                                                               fiftyone.core.fields.EmbeddedDocumentField(fiftyone.core.labels.Detections)\n",
      "    auto_aug_predict:                                                         fiftyone.core.fields.EmbeddedDocumentField(fiftyone.core.labels.Detections)\n",
      "    auto_aug_predict_tiled:                                                   fiftyone.core.fields.EmbeddedDocumentField(fiftyone.core.labels.Detections)\n",
      "    auto_aug_eval_tp:                                                         fiftyone.core.fields.IntField\n",
      "    auto_aug_eval_fp:                                                         fiftyone.core.fields.IntField\n",
      "    auto_aug_eval_fn:                                                         fiftyone.core.fields.IntField\n",
      "    model_code:                                                               fiftyone.core.fields.EmbeddedDocumentField(fiftyone.core.labels.Classification)\n",
      "    manufacturer:                                                             fiftyone.core.fields.EmbeddedDocumentField(fiftyone.core.labels.Classification)\n",
      "    model_name:                                                               fiftyone.core.fields.EmbeddedDocumentField(fiftyone.core.labels.Classification)\n",
      "    aircraft_type:                                                            fiftyone.core.fields.EmbeddedDocumentField(fiftyone.core.labels.Classification)\n",
      "    engine_type:                                                              fiftyone.core.fields.EmbeddedDocumentField(fiftyone.core.labels.Classification)\n",
      "    num_engines:                                                              fiftyone.core.fields.EmbeddedDocumentField(fiftyone.core.labels.Classification)\n",
      "    num_seats:                                                                fiftyone.core.fields.EmbeddedDocumentField(fiftyone.core.labels.Classification)\n",
      "    aircraft_weight:                                                          fiftyone.core.fields.EmbeddedDocumentField(fiftyone.core.labels.Classification)\n",
      "    norm_model:                                                               fiftyone.core.fields.EmbeddedDocumentField(fiftyone.core.labels.Classification)\n",
      "    multi_class_detections:                                                   fiftyone.core.fields.EmbeddedDocumentField(fiftyone.core.labels.Detections)\n",
      "    multi_class_predict:                                                      fiftyone.core.fields.EmbeddedDocumentField(fiftyone.core.labels.Detections)\n",
      "    multi_class_100_predict #auto_aug_predict_tiled #multi_class_predict:     fiftyone.core.fields.EmbeddedDocumentField(fiftyone.core.labels.Detections)\n",
      "    multi_class_100_40k_predict #auto_aug_predict_tiled #multi_class_predict: fiftyone.core.fields.EmbeddedDocumentField(fiftyone.core.labels.Detections)\n",
      "    eval_multi2_tp:                                                           fiftyone.core.fields.IntField\n",
      "    eval_multi2_fp:                                                           fiftyone.core.fields.IntField\n",
      "    eval_multi2_fn:                                                           fiftyone.core.fields.IntField\n",
      "    eval_multi_new__tp:                                                       fiftyone.core.fields.IntField\n",
      "    eval_multi_new__fp:                                                       fiftyone.core.fields.IntField\n",
      "    eval_multi_new__fn:                                                       fiftyone.core.fields.IntField\n",
      "    multi_class_split_predict:                                                fiftyone.core.fields.EmbeddedDocumentField(fiftyone.core.labels.Detections)\n",
      "    eval_multi_split__tp:                                                     fiftyone.core.fields.IntField\n",
      "    eval_multi_split__fp:                                                     fiftyone.core.fields.IntField\n",
      "    eval_multi_split__fn:                                                     fiftyone.core.fields.IntField\n",
      "    eval_multi_plot__tp:                                                      fiftyone.core.fields.IntField\n",
      "    eval_multi_plot__fp:                                                      fiftyone.core.fields.IntField\n",
      "    eval_multi_plot__fn:                                                      fiftyone.core.fields.IntField\n",
      "    multi_class_rift_predict:                                                 fiftyone.core.fields.EmbeddedDocumentField(fiftyone.core.labels.Detections)\n",
      "    eval_multi_rift__tp:                                                      fiftyone.core.fields.IntField\n",
      "    eval_multi_rift__fp:                                                      fiftyone.core.fields.IntField\n",
      "    eval_multi_rift__fn:                                                      fiftyone.core.fields.IntField\n",
      "    multi_class_ssd_predict:                                                  fiftyone.core.fields.EmbeddedDocumentField(fiftyone.core.labels.Detections)\n",
      "    eval_multi_ssd__tp:                                                       fiftyone.core.fields.IntField\n",
      "    eval_multi_ssd__fp:                                                       fiftyone.core.fields.IntField\n",
      "    eval_multi_ssd__fn:                                                       fiftyone.core.fields.IntField\n",
      "    multi_class_split_ssd_predict:                                            fiftyone.core.fields.EmbeddedDocumentField(fiftyone.core.labels.Detections)\n",
      "    eval_multi_split_ssd_tp:                                                  fiftyone.core.fields.IntField\n",
      "    eval_multi_split_ssd_fp:                                                  fiftyone.core.fields.IntField\n",
      "    eval_multi_split_ssd_fn:                                                  fiftyone.core.fields.IntField\n",
      "View stages:\n",
      "    1. MatchTags(tags=['multi_class_eval'], bool=True)\n"
     ]
    }
   ],
   "source": [
    "view = dataset.match_tags(\"multi_class_eval\")\n",
    "print(view)"
   ]
  },
  {
   "cell_type": "code",
   "execution_count": null,
   "metadata": {},
   "outputs": [],
   "source": [
    "for sample in view:\n",
    "    if sample[\"detections\"] == None:\n",
    "        sample[\"detections\"] = fo.Detections(detections=[])\n",
    "        sample.save()"
   ]
  },
  {
   "cell_type": "code",
   "execution_count": null,
   "metadata": {},
   "outputs": [],
   "source": [
    "# Evaluate `predictions` w.r.t. labels in `ground_truth` field\n",
    "view = dataset.match_tags(\"eval\")\n",
    "print(view.first())\n",
    "view.evaluate_detections(\n",
    "    \"881_40k_predict\", gt_field=\"detections\", eval_key=\"eval_881\"\n",
    ")\n",
    "\n"
   ]
  },
  {
   "cell_type": "code",
   "execution_count": 23,
   "metadata": {},
   "outputs": [
    {
     "name": "stdout",
     "output_type": "stream",
     "text": [
      "Dataset:     plane-dataset\n",
      "Media type:  image\n",
      "Num samples: 3447\n",
      "Tags:        ['capture-3-29', 'capture-3-30', 'capture-5-13', 'eval', 'model_eval', 'multi_class_eval', 'train']\n",
      "Sample fields:\n",
      "    id:                                                                       fiftyone.core.fields.ObjectIdField\n",
      "    filepath:                                                                 fiftyone.core.fields.StringField\n",
      "    tags:                                                                     fiftyone.core.fields.ListField(fiftyone.core.fields.StringField)\n",
      "    metadata:                                                                 fiftyone.core.fields.EmbeddedDocumentField(fiftyone.core.metadata.Metadata)\n",
      "    external_id:                                                              fiftyone.core.fields.EmbeddedDocumentField(fiftyone.core.labels.Classification)\n",
      "    icao24:                                                                   fiftyone.core.fields.EmbeddedDocumentField(fiftyone.core.labels.Classification)\n",
      "    labelbox_id:                                                              fiftyone.core.fields.StringField\n",
      "    detections:                                                               fiftyone.core.fields.EmbeddedDocumentField(fiftyone.core.labels.Detections)\n",
      "    auto_aug_predict:                                                         fiftyone.core.fields.EmbeddedDocumentField(fiftyone.core.labels.Detections)\n",
      "    auto_aug_predict_tiled:                                                   fiftyone.core.fields.EmbeddedDocumentField(fiftyone.core.labels.Detections)\n",
      "    auto_aug_eval_tp:                                                         fiftyone.core.fields.IntField\n",
      "    auto_aug_eval_fp:                                                         fiftyone.core.fields.IntField\n",
      "    auto_aug_eval_fn:                                                         fiftyone.core.fields.IntField\n",
      "    model_code:                                                               fiftyone.core.fields.EmbeddedDocumentField(fiftyone.core.labels.Classification)\n",
      "    manufacturer:                                                             fiftyone.core.fields.EmbeddedDocumentField(fiftyone.core.labels.Classification)\n",
      "    model_name:                                                               fiftyone.core.fields.EmbeddedDocumentField(fiftyone.core.labels.Classification)\n",
      "    aircraft_type:                                                            fiftyone.core.fields.EmbeddedDocumentField(fiftyone.core.labels.Classification)\n",
      "    engine_type:                                                              fiftyone.core.fields.EmbeddedDocumentField(fiftyone.core.labels.Classification)\n",
      "    num_engines:                                                              fiftyone.core.fields.EmbeddedDocumentField(fiftyone.core.labels.Classification)\n",
      "    num_seats:                                                                fiftyone.core.fields.EmbeddedDocumentField(fiftyone.core.labels.Classification)\n",
      "    aircraft_weight:                                                          fiftyone.core.fields.EmbeddedDocumentField(fiftyone.core.labels.Classification)\n",
      "    norm_model:                                                               fiftyone.core.fields.EmbeddedDocumentField(fiftyone.core.labels.Classification)\n",
      "    multi_class_detections:                                                   fiftyone.core.fields.EmbeddedDocumentField(fiftyone.core.labels.Detections)\n",
      "    multi_class_predict:                                                      fiftyone.core.fields.EmbeddedDocumentField(fiftyone.core.labels.Detections)\n",
      "    multi_class_100_predict #auto_aug_predict_tiled #multi_class_predict:     fiftyone.core.fields.EmbeddedDocumentField(fiftyone.core.labels.Detections)\n",
      "    multi_class_100_40k_predict #auto_aug_predict_tiled #multi_class_predict: fiftyone.core.fields.EmbeddedDocumentField(fiftyone.core.labels.Detections)\n",
      "    eval_multi2_tp:                                                           fiftyone.core.fields.IntField\n",
      "    eval_multi2_fp:                                                           fiftyone.core.fields.IntField\n",
      "    eval_multi2_fn:                                                           fiftyone.core.fields.IntField\n",
      "    eval_multi_new__tp:                                                       fiftyone.core.fields.IntField\n",
      "    eval_multi_new__fp:                                                       fiftyone.core.fields.IntField\n",
      "    eval_multi_new__fn:                                                       fiftyone.core.fields.IntField\n",
      "    multi_class_split_predict:                                                fiftyone.core.fields.EmbeddedDocumentField(fiftyone.core.labels.Detections)\n",
      "    eval_multi_split__tp:                                                     fiftyone.core.fields.IntField\n",
      "    eval_multi_split__fp:                                                     fiftyone.core.fields.IntField\n",
      "    eval_multi_split__fn:                                                     fiftyone.core.fields.IntField\n",
      "    eval_multi_plot__tp:                                                      fiftyone.core.fields.IntField\n",
      "    eval_multi_plot__fp:                                                      fiftyone.core.fields.IntField\n",
      "    eval_multi_plot__fn:                                                      fiftyone.core.fields.IntField\n",
      "    multi_class_rift_predict:                                                 fiftyone.core.fields.EmbeddedDocumentField(fiftyone.core.labels.Detections)\n",
      "    eval_multi_rift__tp:                                                      fiftyone.core.fields.IntField\n",
      "    eval_multi_rift__fp:                                                      fiftyone.core.fields.IntField\n",
      "    eval_multi_rift__fn:                                                      fiftyone.core.fields.IntField\n",
      "    multi_class_ssd_predict:                                                  fiftyone.core.fields.EmbeddedDocumentField(fiftyone.core.labels.Detections)\n",
      "    eval_multi_ssd__tp:                                                       fiftyone.core.fields.IntField\n",
      "    eval_multi_ssd__fp:                                                       fiftyone.core.fields.IntField\n",
      "    eval_multi_ssd__fn:                                                       fiftyone.core.fields.IntField\n",
      "    multi_class_split_ssd_predict:                                            fiftyone.core.fields.EmbeddedDocumentField(fiftyone.core.labels.Detections)\n",
      "View stages:\n",
      "    1. MatchTags(tags=['multi_class_eval'], bool=True)\n",
      "Evaluating detections...\n",
      " 100% |███████████████| 3447/3447 [15.9s elapsed, 0s remaining, 218.0 samples/s]      \n",
      "Performing IoU sweep...\n",
      " 100% |███████████████| 3447/3447 [18.2s elapsed, 0s remaining, 188.4 samples/s]      \n"
     ]
    }
   ],
   "source": [
    "# Evaluate the detections in the `predictions` field with respect to the\n",
    "# objects in the `ground_truth` field\n",
    "view = dataset.match_tags(\"multi_class_eval\")\n",
    "print(view)\n",
    "results = view.evaluate_detections(\n",
    "    \"multi_class_split_ssd_predict\", gt_field=\"multi_class_detections\", eval_key=\"eval_multi_split_ssd\", compute_mAP=True\n",
    ")\n",
    "\n",
    "\n",
    "\n"
   ]
  },
  {
   "cell_type": "code",
   "execution_count": 24,
   "metadata": {},
   "outputs": [
    {
     "name": "stdout",
     "output_type": "stream",
     "text": [
      "                       precision    recall  f1-score   support\n",
      "\n",
      "              ERJ-170       0.76      0.80      0.78       762\n",
      "                 A320       0.63      0.84      0.72       669\n",
      "              737-800       0.44      0.42      0.43       322\n",
      "                 A319       0.55      0.04      0.08       245\n",
      "                 A321       0.71      0.73      0.72       237\n",
      "           Cessna Jet       0.53      0.77      0.63       221\n",
      "              737-700       0.92      0.68      0.78       195\n",
      "Bombardier Challenger       0.80      0.35      0.49       137\n",
      "              737-900       0.33      0.12      0.18       113\n",
      "              EMB-135       0.95      0.68      0.79       102\n",
      "           Hawker 400       0.00      0.00      0.00        82\n",
      "              777-200       0.93      0.96      0.94        69\n",
      "           Hawker 800       0.55      0.10      0.16        62\n",
      "               CRJ900       0.80      0.92      0.86        49\n",
      "               CRJ700       0.92      0.48      0.63        46\n",
      "              EMB-505       0.12      0.69      0.20        39\n",
      "           Gulfstream       0.54      0.22      0.31        32\n",
      "              757-200       0.17      0.03      0.06        29\n",
      "        Learjet 45/60       0.00      0.00      0.00        28\n",
      "              LearJet       0.00      0.00      0.00        23\n",
      "\n",
      "            micro avg       0.63      0.60      0.62      3462\n",
      "            macro avg       0.53      0.44      0.44      3462\n",
      "         weighted avg       0.63      0.60      0.59      3462\n",
      "\n",
      "TP: 2094\n",
      "FP: 1270\n",
      "FN: 1368\n",
      "mAP: 0.2800902166459899\n"
     ]
    },
    {
     "data": {
      "text/plain": []
     },
     "metadata": {},
     "output_type": "display_data"
    },
    {
     "data": {
      "text/plain": []
     },
     "metadata": {},
     "output_type": "display_data"
    },
    {
     "data": {
      "application/vnd.jupyter.widget-view+json": {
       "model_id": "657391ef2c8b422fb8672997c2bed945",
       "version_major": 2,
       "version_minor": 0
      },
      "text/plain": [
       "FigureWidget({\n",
       "    'data': [{'hovertemplate': '<b>class: %{text}</b><br>recall: %{x}<br>precision: %{y}<extra>…"
      ]
     },
     "metadata": {},
     "output_type": "display_data"
    },
    {
     "data": {
      "text/plain": []
     },
     "metadata": {},
     "output_type": "display_data"
    },
    {
     "data": {
      "text/plain": []
     },
     "metadata": {},
     "output_type": "display_data"
    },
    {
     "data": {
      "application/vnd.jupyter.widget-view+json": {
       "model_id": "5c8f7fc9762c4f14b2e32339d8418211",
       "version_major": 2,
       "version_minor": 0
      },
      "text/plain": [
       "FigureWidget({\n",
       "    'data': [{'mode': 'markers',\n",
       "              'opacity': 0.1,\n",
       "              'type': 'scatter',…"
      ]
     },
     "metadata": {},
     "output_type": "display_data"
    }
   ],
   "source": [
    "# Get the 10 most common classes in the dataset\n",
    "counts = view.count_values(\"multi_class_detections.detections.label\")\n",
    "classes = sorted(counts, key=counts.get, reverse=True)[:20]\n",
    "\n",
    "# Print a classification report for the top-10 classes\n",
    "results.print_report(classes=classes)\n",
    "\n",
    "# Print some statistics about the total TP/FP/FN counts\n",
    "print(\"TP: %d\" % dataset.sum(\"eval_multi_split_ssd_tp\"))\n",
    "print(\"FP: %d\" % dataset.sum(\"eval_multi_split_ssd_fp\"))\n",
    "print(\"FN: %d\" % dataset.sum(\"eval_multi_split_ssd_fn\"))\n",
    "\n",
    "\n",
    "print(\"mAP: {}\".format(results.mAP()))\n",
    "# 0.3957\n",
    "\n",
    "plot = results.plot_pr_curves(classes=classes)\n",
    "plot.show()\n",
    "\n",
    "plot = results.plot_confusion_matrix(classes=classes)\n",
    "plot.show()"
   ]
  },
  {
   "cell_type": "code",
   "execution_count": null,
   "metadata": {},
   "outputs": [],
   "source": [
    "session = fo.launch_app(dataset, auto=False)\n",
    "\n",
    "# Convert to evaluation patches\n",
    "eval_patches = view.to_evaluation_patches(\"eval\")\n",
    "print(eval_patches)\n",
    "\n",
    "# View patches in the App\n",
    "session.view = eval_patches"
   ]
  },
  {
   "cell_type": "markdown",
   "metadata": {},
   "source": [
    "### Low confidence sample"
   ]
  },
  {
   "cell_type": "code",
   "execution_count": null,
   "metadata": {},
   "outputs": [],
   "source": [
    "# Show samples with most false positives\n",
    "# Evaluate `predictions` w.r.t. labels in `ground_truth` field\n",
    "view = dataset.match_tags(\"eval\")\n",
    "print(view.first())\n",
    "eval_view = (\n",
    "    view\n",
    "    .sort_by(\"auto_aug_eval_fp\", reverse=True)\n",
    "    .filter_labels(\"auto_aug_predict_tiled\", F(\"auto_aug_eval\") == \"fp\")\n",
    ")\n",
    "session.view = eval_view"
   ]
  },
  {
   "cell_type": "markdown",
   "metadata": {},
   "source": [
    "### Fix Tags"
   ]
  },
  {
   "cell_type": "code",
   "execution_count": 52,
   "metadata": {},
   "outputs": [
    {
     "name": "stdout",
     "output_type": "stream",
     "text": [
      "Dataset:     plane-dataset\n",
      "Media type:  image\n",
      "Num samples: 2519\n",
      "Tags:        ['capture-3-29', 'capture-3-30', 'capture-5-13', 'eval', 'model_eval', 'model_train', 'multi_class_eval', 'train']\n",
      "Sample fields:\n",
      "    id:                                                                       fiftyone.core.fields.ObjectIdField\n",
      "    filepath:                                                                 fiftyone.core.fields.StringField\n",
      "    tags:                                                                     fiftyone.core.fields.ListField(fiftyone.core.fields.StringField)\n",
      "    metadata:                                                                 fiftyone.core.fields.EmbeddedDocumentField(fiftyone.core.metadata.Metadata)\n",
      "    external_id:                                                              fiftyone.core.fields.EmbeddedDocumentField(fiftyone.core.labels.Classification)\n",
      "    icao24:                                                                   fiftyone.core.fields.EmbeddedDocumentField(fiftyone.core.labels.Classification)\n",
      "    labelbox_id:                                                              fiftyone.core.fields.StringField\n",
      "    detections:                                                               fiftyone.core.fields.EmbeddedDocumentField(fiftyone.core.labels.Detections)\n",
      "    auto_aug_predict:                                                         fiftyone.core.fields.EmbeddedDocumentField(fiftyone.core.labels.Detections)\n",
      "    auto_aug_predict_tiled:                                                   fiftyone.core.fields.EmbeddedDocumentField(fiftyone.core.labels.Detections)\n",
      "    auto_aug_eval_tp:                                                         fiftyone.core.fields.IntField\n",
      "    auto_aug_eval_fp:                                                         fiftyone.core.fields.IntField\n",
      "    auto_aug_eval_fn:                                                         fiftyone.core.fields.IntField\n",
      "    model_code:                                                               fiftyone.core.fields.EmbeddedDocumentField(fiftyone.core.labels.Classification)\n",
      "    manufacturer:                                                             fiftyone.core.fields.EmbeddedDocumentField(fiftyone.core.labels.Classification)\n",
      "    model_name:                                                               fiftyone.core.fields.EmbeddedDocumentField(fiftyone.core.labels.Classification)\n",
      "    aircraft_type:                                                            fiftyone.core.fields.EmbeddedDocumentField(fiftyone.core.labels.Classification)\n",
      "    engine_type:                                                              fiftyone.core.fields.EmbeddedDocumentField(fiftyone.core.labels.Classification)\n",
      "    num_engines:                                                              fiftyone.core.fields.EmbeddedDocumentField(fiftyone.core.labels.Classification)\n",
      "    num_seats:                                                                fiftyone.core.fields.EmbeddedDocumentField(fiftyone.core.labels.Classification)\n",
      "    aircraft_weight:                                                          fiftyone.core.fields.EmbeddedDocumentField(fiftyone.core.labels.Classification)\n",
      "    norm_model:                                                               fiftyone.core.fields.EmbeddedDocumentField(fiftyone.core.labels.Classification)\n",
      "    multi_class_detections:                                                   fiftyone.core.fields.EmbeddedDocumentField(fiftyone.core.labels.Detections)\n",
      "    multi_class_predict:                                                      fiftyone.core.fields.EmbeddedDocumentField(fiftyone.core.labels.Detections)\n",
      "    multi_class_100_predict #auto_aug_predict_tiled #multi_class_predict:     fiftyone.core.fields.EmbeddedDocumentField(fiftyone.core.labels.Detections)\n",
      "    multi_class_100_40k_predict #auto_aug_predict_tiled #multi_class_predict: fiftyone.core.fields.EmbeddedDocumentField(fiftyone.core.labels.Detections)\n",
      "    eval_multi2_tp:                                                           fiftyone.core.fields.IntField\n",
      "    eval_multi2_fp:                                                           fiftyone.core.fields.IntField\n",
      "    eval_multi2_fn:                                                           fiftyone.core.fields.IntField\n",
      "View stages:\n",
      "    1. MatchTags(tags=['multi_class_eval'], bool=True)\n"
     ]
    }
   ],
   "source": [
    "eval_view = dataset.match_tags(\"multi_class_eval\")\n",
    "print(eval_view)\n",
    "for sample in eval_view:\n",
    "    try:\n",
    "        sample.tags = list(filter(lambda x: x != \"multi_class_eval\", sample.tags))\n",
    "        sample.save()\n",
    "    except ValueError:\n",
    "        pass"
   ]
  },
  {
   "cell_type": "code",
   "execution_count": 53,
   "metadata": {},
   "outputs": [
    {
     "name": "stdout",
     "output_type": "stream",
     "text": [
      "737-400: 46\n",
      "737-700: 568\n",
      "737-800: 1198\n",
      "737-900: 567\n",
      "757-200: 100\n",
      "767-200: 40\n",
      "777-200: 127\n",
      "A300: 108\n",
      "A319: 1032\n",
      "A320: 3949\n",
      "A321: 1404\n",
      "Bombardier Challenger: 388\n",
      "CRJ200: 44\n",
      "CRJ550: 110\n",
      "CRJ700: 107\n",
      "CRJ900: 400\n",
      "Cessna Jet: 799\n",
      "EMB-135: 195\n",
      "EMB-505: 117\n",
      "ERJ-170: 3370\n",
      "Falcon: 41\n",
      "Gulfstream: 234\n",
      "Hawker 400: 192\n",
      "Hawker 800: 108\n",
      "HondaJet: 45\n",
      "King Air: 53\n",
      "LearJet: 87\n",
      "Learjet 45/60: 118\n",
      "Pilatus PC-12: 187\n",
      "Piper Cheyenne: 71\n"
     ]
    }
   ],
   "source": [
    "norm_models = dataset.distinct(\"norm_model.label\")\n",
    "for norm_model in norm_models:\n",
    "    view = dataset.filter_labels(\"norm_model\", (F(\"label\") == norm_model)).match(F(\"auto_aug_predict_tiled.detections\").length()>0).match_tags(\"multi_class_train\",bool=False)\n",
    "    print(\"{}: {}\".format(norm_model,len(view)))\n",
    "    if len(view) >= 100:\n",
    "        for sample in view:\n",
    "            sample.tags.append(\"multi_class_eval\")\n",
    "            sample.save()"
   ]
  },
  {
   "cell_type": "code",
   "execution_count": 59,
   "metadata": {},
   "outputs": [
    {
     "name": "stdout",
     "output_type": "stream",
     "text": [
      "Dataset:     plane-dataset\n",
      "Media type:  image\n",
      "Num samples: 15378\n",
      "Tags:        ['capture-3-29', 'capture-3-30', 'capture-5-13', 'eval', 'model_eval', 'model_train', 'multi_class_eval', 'train']\n",
      "Sample fields:\n",
      "    id:                                                                       fiftyone.core.fields.ObjectIdField\n",
      "    filepath:                                                                 fiftyone.core.fields.StringField\n",
      "    tags:                                                                     fiftyone.core.fields.ListField(fiftyone.core.fields.StringField)\n",
      "    metadata:                                                                 fiftyone.core.fields.EmbeddedDocumentField(fiftyone.core.metadata.Metadata)\n",
      "    external_id:                                                              fiftyone.core.fields.EmbeddedDocumentField(fiftyone.core.labels.Classification)\n",
      "    icao24:                                                                   fiftyone.core.fields.EmbeddedDocumentField(fiftyone.core.labels.Classification)\n",
      "    labelbox_id:                                                              fiftyone.core.fields.StringField\n",
      "    detections:                                                               fiftyone.core.fields.EmbeddedDocumentField(fiftyone.core.labels.Detections)\n",
      "    auto_aug_predict:                                                         fiftyone.core.fields.EmbeddedDocumentField(fiftyone.core.labels.Detections)\n",
      "    auto_aug_predict_tiled:                                                   fiftyone.core.fields.EmbeddedDocumentField(fiftyone.core.labels.Detections)\n",
      "    auto_aug_eval_tp:                                                         fiftyone.core.fields.IntField\n",
      "    auto_aug_eval_fp:                                                         fiftyone.core.fields.IntField\n",
      "    auto_aug_eval_fn:                                                         fiftyone.core.fields.IntField\n",
      "    model_code:                                                               fiftyone.core.fields.EmbeddedDocumentField(fiftyone.core.labels.Classification)\n",
      "    manufacturer:                                                             fiftyone.core.fields.EmbeddedDocumentField(fiftyone.core.labels.Classification)\n",
      "    model_name:                                                               fiftyone.core.fields.EmbeddedDocumentField(fiftyone.core.labels.Classification)\n",
      "    aircraft_type:                                                            fiftyone.core.fields.EmbeddedDocumentField(fiftyone.core.labels.Classification)\n",
      "    engine_type:                                                              fiftyone.core.fields.EmbeddedDocumentField(fiftyone.core.labels.Classification)\n",
      "    num_engines:                                                              fiftyone.core.fields.EmbeddedDocumentField(fiftyone.core.labels.Classification)\n",
      "    num_seats:                                                                fiftyone.core.fields.EmbeddedDocumentField(fiftyone.core.labels.Classification)\n",
      "    aircraft_weight:                                                          fiftyone.core.fields.EmbeddedDocumentField(fiftyone.core.labels.Classification)\n",
      "    norm_model:                                                               fiftyone.core.fields.EmbeddedDocumentField(fiftyone.core.labels.Classification)\n",
      "    multi_class_detections:                                                   fiftyone.core.fields.EmbeddedDocumentField(fiftyone.core.labels.Detections)\n",
      "    multi_class_predict:                                                      fiftyone.core.fields.EmbeddedDocumentField(fiftyone.core.labels.Detections)\n",
      "    multi_class_100_predict #auto_aug_predict_tiled #multi_class_predict:     fiftyone.core.fields.EmbeddedDocumentField(fiftyone.core.labels.Detections)\n",
      "    multi_class_100_40k_predict #auto_aug_predict_tiled #multi_class_predict: fiftyone.core.fields.EmbeddedDocumentField(fiftyone.core.labels.Detections)\n",
      "    eval_multi2_tp:                                                           fiftyone.core.fields.IntField\n",
      "    eval_multi2_fp:                                                           fiftyone.core.fields.IntField\n",
      "    eval_multi2_fn:                                                           fiftyone.core.fields.IntField\n",
      "View stages:\n",
      "    1. MatchTags(tags=['multi_class_eval'], bool=True)\n"
     ]
    }
   ],
   "source": [
    "eval_view = dataset.match_tags(\"multi_class_eval\")\n",
    "print(eval_view)"
   ]
  },
  {
   "cell_type": "code",
   "execution_count": null,
   "metadata": {},
   "outputs": [],
   "source": []
  }
 ],
 "metadata": {
  "kernelspec": {
   "display_name": "Python 3",
   "language": "python",
   "name": "python3"
  },
  "language_info": {
   "codemirror_mode": {
    "name": "ipython",
    "version": 3
   },
   "file_extension": ".py",
   "mimetype": "text/x-python",
   "name": "python",
   "nbconvert_exporter": "python",
   "pygments_lexer": "ipython3",
   "version": "3.6.9"
  }
 },
 "nbformat": 4,
 "nbformat_minor": 2
}
