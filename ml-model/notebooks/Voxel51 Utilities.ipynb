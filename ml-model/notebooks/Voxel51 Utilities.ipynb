{
 "cells": [
  {
   "cell_type": "code",
   "execution_count": 1,
   "metadata": {},
   "outputs": [],
   "source": [
    "dataset_name = \"jsm-test-dataset\" # Name of the Voxel51 Dataset to use"
   ]
  },
  {
   "cell_type": "markdown",
   "metadata": {},
   "source": [
    "### Load the Voxel51 Dataset"
   ]
  },
  {
   "cell_type": "code",
   "execution_count": 2,
   "metadata": {},
   "outputs": [],
   "source": [
    "#config\n",
    "import fiftyone as fo\n",
    "from fiftyone import ViewField as F\n",
    "import os\n",
    "import numpy as np\n",
    "import matplotlib.pyplot as plt\n",
    "\n",
    "\n",
    "dataset = fo.load_dataset(dataset_name)  "
   ]
  },
  {
   "cell_type": "markdown",
   "metadata": {},
   "source": [
    "### Browse the entire Voxel51 Dataset"
   ]
  },
  {
   "cell_type": "code",
   "execution_count": 3,
   "metadata": {},
   "outputs": [
    {
     "name": "stdout",
     "output_type": "stream",
     "text": [
      "Session launched. Run `session.show()` to open the App in a cell output.\n"
     ]
    }
   ],
   "source": [
    "session = fo.launch_app(dataset, auto=False)"
   ]
  },
  {
   "cell_type": "markdown",
   "metadata": {},
   "source": [
    "### Browse a subsection of the Voxel51 Dataset"
   ]
  },
  {
   "cell_type": "code",
   "execution_count": 9,
   "metadata": {},
   "outputs": [
    {
     "name": "stdout",
     "output_type": "stream",
     "text": [
      "Dataset:     jsm-test-dataset\n",
      "Media type:  image\n",
      "Num samples: 400\n",
      "Tags:        ['training']\n",
      "Sample fields:\n",
      "    filepath:         fiftyone.core.fields.StringField\n",
      "    tags:             fiftyone.core.fields.ListField(fiftyone.core.fields.StringField)\n",
      "    metadata:         fiftyone.core.fields.EmbeddedDocumentField(fiftyone.core.metadata.Metadata)\n",
      "    external_id:      fiftyone.core.fields.EmbeddedDocumentField(fiftyone.core.labels.Classification)\n",
      "    bearing:          fiftyone.core.fields.EmbeddedDocumentField(fiftyone.core.labels.Classification)\n",
      "    elevation:        fiftyone.core.fields.EmbeddedDocumentField(fiftyone.core.labels.Classification)\n",
      "    distance:         fiftyone.core.fields.EmbeddedDocumentField(fiftyone.core.labels.Classification)\n",
      "    icao24:           fiftyone.core.fields.EmbeddedDocumentField(fiftyone.core.labels.Classification)\n",
      "    model:            fiftyone.core.fields.EmbeddedDocumentField(fiftyone.core.labels.Classification)\n",
      "    manufacturer:     fiftyone.core.fields.EmbeddedDocumentField(fiftyone.core.labels.Classification)\n",
      "    norm_model:       fiftyone.core.fields.EmbeddedDocumentField(fiftyone.core.labels.Classification)\n",
      "    labelbox_id:      fiftyone.core.fields.StringField\n",
      "    detections:       fiftyone.core.fields.EmbeddedDocumentField(fiftyone.core.labels.Detections)\n",
      "    operatorcallsign: fiftyone.core.fields.EmbeddedDocumentField(fiftyone.core.labels.Classification)\n",
      "    predict_model:    fiftyone.core.fields.EmbeddedDocumentField(fiftyone.core.labels.Detections)\n",
      "    dolt_predict:     fiftyone.core.fields.EmbeddedDocumentField(fiftyone.core.labels.Detections)\n",
      "    dolt_40k_predict: fiftyone.core.fields.EmbeddedDocumentField(fiftyone.core.labels.Detections)\n",
      "View stages:\n",
      "    1. MatchTags(tags=['training'])\n"
     ]
    }
   ],
   "source": [
    "#view = dataset.exists(\"training\")\n",
    "\n",
    "# Veiw samples where there is no label\n",
    "# view = dataset.match({\"model\": {\"$exists\": False, \"$eq\": None}})\n",
    "\n",
    "# View samples with a tag\n",
    "view = dataset.match_tags(\"training\")\n",
    "\n",
    "print(view)\n",
    "\n",
    "session.view = view\n"
   ]
  },
  {
   "cell_type": "markdown",
   "metadata": {},
   "source": [
    "### Add Tags to Selected Samples\n",
    "Use the browser to select samples and add tags to them"
   ]
  },
  {
   "cell_type": "code",
   "execution_count": 8,
   "metadata": {},
   "outputs": [
    {
     "name": "stdout",
     "output_type": "stream",
     "text": [
      "Dataset:     jsm-test-dataset\n",
      "Media type:  image\n",
      "Num samples: 2\n",
      "Tags:        []\n",
      "Sample fields:\n",
      "    filepath:         fiftyone.core.fields.StringField\n",
      "    tags:             fiftyone.core.fields.ListField(fiftyone.core.fields.StringField)\n",
      "    metadata:         fiftyone.core.fields.EmbeddedDocumentField(fiftyone.core.metadata.Metadata)\n",
      "    external_id:      fiftyone.core.fields.EmbeddedDocumentField(fiftyone.core.labels.Classification)\n",
      "    bearing:          fiftyone.core.fields.EmbeddedDocumentField(fiftyone.core.labels.Classification)\n",
      "    elevation:        fiftyone.core.fields.EmbeddedDocumentField(fiftyone.core.labels.Classification)\n",
      "    distance:         fiftyone.core.fields.EmbeddedDocumentField(fiftyone.core.labels.Classification)\n",
      "    icao24:           fiftyone.core.fields.EmbeddedDocumentField(fiftyone.core.labels.Classification)\n",
      "    model:            fiftyone.core.fields.EmbeddedDocumentField(fiftyone.core.labels.Classification)\n",
      "    manufacturer:     fiftyone.core.fields.EmbeddedDocumentField(fiftyone.core.labels.Classification)\n",
      "    norm_model:       fiftyone.core.fields.EmbeddedDocumentField(fiftyone.core.labels.Classification)\n",
      "    labelbox_id:      fiftyone.core.fields.StringField\n",
      "    detections:       fiftyone.core.fields.EmbeddedDocumentField(fiftyone.core.labels.Detections)\n",
      "    operatorcallsign: fiftyone.core.fields.EmbeddedDocumentField(fiftyone.core.labels.Classification)\n",
      "    predict_model:    fiftyone.core.fields.EmbeddedDocumentField(fiftyone.core.labels.Detections)\n",
      "    dolt_predict:     fiftyone.core.fields.EmbeddedDocumentField(fiftyone.core.labels.Detections)\n",
      "    dolt_40k_predict: fiftyone.core.fields.EmbeddedDocumentField(fiftyone.core.labels.Detections)\n",
      "View stages:\n",
      "    1. Select(sample_ids=['60a3bf26f3610f2b7a824f2a', '60a3bf26f3610f2b7a824f1f'], ordered=False)\n"
     ]
    }
   ],
   "source": [
    "# Create a view containing only the selected samples\n",
    "selected_view = dataset.select(session.selected)\n",
    "print(selected_view)\n",
    "for sample in selected_view:\n",
    "    sample.tags.append(\"training\")\n",
    "    sample.save() "
   ]
  },
  {
   "cell_type": "markdown",
   "metadata": {},
   "source": [
    "### Add a Tag to All Samples with a given Label Field"
   ]
  },
  {
   "cell_type": "code",
   "execution_count": null,
   "metadata": {},
   "outputs": [],
   "source": [
    "view = dataset.exists(\"detections\")\n",
    "print(view)\n",
    "for sample in view:\n",
    "    sample.tags.append(\"training\")\n",
    "    sample.save() "
   ]
  },
  {
   "cell_type": "markdown",
   "metadata": {},
   "source": [
    "### Add a Tag to All Samples in a Dataset"
   ]
  },
  {
   "cell_type": "code",
   "execution_count": 10,
   "metadata": {},
   "outputs": [],
   "source": [
    "for sample in dataset:\n",
    "    sample.tags.append(\"capture-5-13\")\n",
    "    sample.save() "
   ]
  },
  {
   "cell_type": "markdown",
   "metadata": {},
   "source": [
    "### Number of Unique Aircraft Bodies per Normalized Model"
   ]
  },
  {
   "cell_type": "code",
   "execution_count": 27,
   "metadata": {},
   "outputs": [
    {
     "name": "stdout",
     "output_type": "stream",
     "text": [
      "737-700: 8\n",
      "737-800: 24\n",
      "737-900: 11\n",
      "757-200: 1\n",
      "777-200: 2\n",
      "787-800: 2\n",
      "A319: 12\n",
      "A320: 71\n",
      "A321: 25\n",
      "Bombardier Challanger: 8\n",
      "CRJ550: 2\n",
      "CRJ700: 5\n",
      "CRJ900: 9\n",
      "Cessna Jet: 14\n",
      "EMB-135: 8\n",
      "EMB-505: 5\n",
      "ERJ-170: 62\n",
      "Falcon: 1\n",
      "Gulfstream: 6\n",
      "Hawker: 2\n",
      "King Air: 1\n",
      "Learjet 45/60: 3\n",
      "Pilatus PC-12: 2\n",
      "\n",
      "Session disconnected, trying to reconnect\n",
      "\n"
     ]
    },
    {
     "name": "stderr",
     "output_type": "stream",
     "text": [
      "Exception in thread Thread-6:\n",
      "Traceback (most recent call last):\n",
      "  File \"/usr/lib/python3.6/threading.py\", line 916, in _bootstrap_inner\n",
      "    self.run()\n",
      "  File \"/usr/lib/python3.6/threading.py\", line 864, in run\n",
      "    self._target(*self._args, **self._kwargs)\n",
      "  File \"/usr/local/lib/python3.6/dist-packages/fiftyone/core/client.py\", line 122, in run_client\n",
      "    io_loop.run_sync(connect)\n",
      "  File \"/usr/local/lib/python3.6/dist-packages/tornado/ioloop.py\", line 530, in run_sync\n",
      "    return future_cell[0].result()\n",
      "  File \"/usr/local/lib/python3.6/dist-packages/fiftyone/core/client.py\", line 89, in connect\n",
      "    message = json_util.loads(message)\n",
      "  File \"/usr/local/lib/python3.6/dist-packages/bson/json_util.py\", line 439, in loads\n",
      "    return json.loads(s, *args, **kwargs)\n",
      "  File \"/usr/lib/python3.6/json/__init__.py\", line 348, in loads\n",
      "    'not {!r}'.format(s.__class__.__name__))\n",
      "TypeError: the JSON object must be str, bytes or bytearray, not 'NoneType'\n",
      "Exception in thread Thread-5:\n",
      "Traceback (most recent call last):\n",
      "  File \"/usr/lib/python3.6/threading.py\", line 916, in _bootstrap_inner\n",
      "    self.run()\n",
      "  File \"/usr/lib/python3.6/threading.py\", line 864, in run\n",
      "    self._target(*self._args, **self._kwargs)\n",
      "  File \"/usr/local/lib/python3.6/dist-packages/fiftyone/core/client.py\", line 122, in run_client\n",
      "    io_loop.run_sync(connect)\n",
      "  File \"/usr/local/lib/python3.6/dist-packages/tornado/ioloop.py\", line 530, in run_sync\n",
      "    return future_cell[0].result()\n",
      "  File \"/usr/local/lib/python3.6/dist-packages/fiftyone/core/client.py\", line 89, in connect\n",
      "    message = json_util.loads(message)\n",
      "  File \"/usr/local/lib/python3.6/dist-packages/bson/json_util.py\", line 439, in loads\n",
      "    return json.loads(s, *args, **kwargs)\n",
      "  File \"/usr/lib/python3.6/json/__init__.py\", line 348, in loads\n",
      "    'not {!r}'.format(s.__class__.__name__))\n",
      "TypeError: the JSON object must be str, bytes or bytearray, not 'NoneType'\n",
      "\n",
      "\n"
     ]
    }
   ],
   "source": [
    "\n",
    "norm_models = dataset.distinct(\"norm_model.label\")\n",
    "for norm_model in norm_models:\n",
    "    view = dataset.filter_labels(\"norm_model\", (F(\"label\") == norm_model)).select_fields(\"icao24\")\n",
    "    unique_aircraft = view.distinct(\"icao24.label\")\n",
    "    print(\"{}: {}\".format(norm_model,len(unique_aircraft)))\n"
   ]
  },
  {
   "cell_type": "code",
   "execution_count": null,
   "metadata": {},
   "outputs": [],
   "source": []
  }
 ],
 "metadata": {
  "kernelspec": {
   "display_name": "Python 3",
   "language": "python",
   "name": "python3"
  },
  "language_info": {
   "codemirror_mode": {
    "name": "ipython",
    "version": 3
   },
   "file_extension": ".py",
   "mimetype": "text/x-python",
   "name": "python",
   "nbconvert_exporter": "python",
   "pygments_lexer": "ipython3",
   "version": "3.6.9"
  }
 },
 "nbformat": 4,
 "nbformat_minor": 2
}
