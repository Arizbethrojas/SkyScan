{
 "cells": [
  {
   "cell_type": "code",
   "execution_count": 8,
   "metadata": {},
   "outputs": [],
   "source": [
    "LABELBOX_EXPORT_JSON = \"/tf/media/export-2021-05-20T13_18_09.947Z.json\"\n",
    "DATASET_NAME = \"jsm-test-dataset\"\n",
    "LABELBOX_ID_FIELD = \"labelbox_id\""
   ]
  },
  {
   "cell_type": "code",
   "execution_count": 14,
   "metadata": {},
   "outputs": [],
   "source": [
    "# Imports and configuration\n",
    "from uuid import uuid4\n",
    "\n",
    "import fiftyone as fo\n",
    "import fiftyone.utils.labelbox as foul"
   ]
  },
  {
   "cell_type": "code",
   "execution_count": 30,
   "metadata": {},
   "outputs": [
    {
     "name": "stdout",
     "output_type": "stream",
     "text": [
      "56\n"
     ]
    }
   ],
   "source": [
    "import eta.core.serial as etas\n",
    "        \n",
    "# Load labels\n",
    "d_list = etas.read_json(LABELBOX_EXPORT_JSON)\n",
    "\n",
    "labelbox_thinks_ids_are = []\n",
    "for d in d_list:\n",
    "    labelbox_id = d[\"DataRow ID\"]\n",
    "    labelbox_thinks_ids_are.append(labelbox_id)\n",
    "\n",
    "print(len(labelbox_thinks_ids_are))\n"
   ]
  },
  {
   "cell_type": "code",
   "execution_count": 15,
   "metadata": {},
   "outputs": [
    {
     "name": "stdout",
     "output_type": "stream",
     "text": [
      "500\n"
     ]
    }
   ],
   "source": [
    "# expect an error here if the dataset already exists\n",
    "dataset = fo.load_dataset(DATASET_NAME)\n",
    "\n",
    "what_voxel51_thinks_labelbox_fields_are = []\n",
    "for sample in dataset.select_fields(LABELBOX_ID_FIELD):\n",
    "    if sample[LABELBOX_ID_FIELD]:\n",
    "        #print(sample[LABELBOX_ID_FIELD])\n",
    "        what_voxel51_thinks_labelbox_fields_are.append(sample[LABELBOX_ID_FIELD])\n",
    "    \n",
    "print(len(what_voxel51_thinks_labelbox_fields_are))"
   ]
  },
  {
   "cell_type": "code",
   "execution_count": 26,
   "metadata": {},
   "outputs": [
    {
     "name": "stdout",
     "output_type": "stream",
     "text": [
      "{'1', '4', '2', '3'}\n"
     ]
    }
   ],
   "source": [
    "x = set([\"1\", \"2\", \"3\"])\n",
    "y = set([\"2\", \"3\", \"4\"])\n",
    "\n",
    "print(set() | y)"
   ]
  },
  {
   "cell_type": "code",
   "execution_count": 31,
   "metadata": {},
   "outputs": [
    {
     "name": "stdout",
     "output_type": "stream",
     "text": [
      "{'ckou3jtof9zo50yasbv551jvh', 'ckou3jm6g9zmf0yas6b8p6ay0', 'ckou3iyxw9ziq0yash7667ie6', 'ckou3j78z9zjq0yasea4cdrtl', 'ckou3j62v9nc70y996cs8cs4z', 'ckou3jvkn9zoi0yasafdd3e69', 'ckou3jwj39nip0y99f0hb8ahw', 'ckou3j19a9seu0y6l1qb31s96', 'ckou3j5eh9nbt0y996f048s7d', 'ckou3ixpf9zih0yas0vk545v9', 'ckou3jpi09sk20y6lb6tcaers', 'ckou3jnrq9sjt0y6letkc3h1w', 'ckou3j1tk9nax0y995m523fjk', 'ckou3k0oe9nju0y998qjiekn4', 'ckou3ju369sln0y6l7c98g9xy', 'ckou3jx1r9niy0y995c6leqzz', 'ckou3jkwb9zm00yas84047qek', 'ckou3jbut9zkp0yasdjw9eqtb', 'ckou3k15m9zq50yashryqgwhl', 'ckou3jq2r9nhc0y9945ov3s5w', 'ckou3jw3q9zom0yas78tjc689', 'ckou3jdlw9zl60yasdgc95bsd', 'ckou3jlnr9sjc0y6l4lzdfmb4', 'ckou3j8vc9nd60y99clfhebok', 'ckou3jcze9sh50y6l857wd66e', 'ckou3jeox9zll0yasgms6d63s', 'ckou3jv159nia0y99bj76d40p', 'ckou3jcdw9sgw0y6lf7a3e8wm', 'ckou3jxlx9zpi0yascn8l60ls', 'ckou3iwld9sds0y6lad5g9p4h', 'ckou3jsj99sl00y6l600rfce7', 'ckou3iy7u9naa0y992rt0eadr', 'ckou3jra39znr0yas71wh7x5f', 'ckou3j6o19sfo0y6lg9ol4nl4', 'ckou3jt439sld0y6l7korazo1', 'ckou3jmzp9sjn0y6l7h48doeq', 'ckou3iu979n9e0y99ghzu6f4w', 'ckou3j7s09sfz0y6lei5b6p3h', 'ckou3j8am9nd10y993oombves', 'ckou3jrzp9skt0y6lf5qjbeoi', 'ckou3izng9sel0y6l8ydn9te1', 'ckou3jyww9zpt0yas6xe3exiz', 'ckou3ix879n9z0y998adg8j17', 'ckou3joxr9zn20yaseoxw20nn', 'ckou3iuuj9n9q0y99drunbtog', 'ckou3jy719njb0y991dh9hc0g', 'ckou3j30m9zj90yas4dqfg37g', 'ckou3j40r9sfa0y6lawqd130j', 'ckou3j0839nak0y99adme4aou', 'ckou3j2f99sez0y6l4uscc826', 'ckou3jbb09ndo0y991wyc5wb1', 'ckou3j0qe9zix0yasg4zbai6i', 'ckou3j3ir9zjd0yas5nnafeio', 'ckou3je6c9sha0y6l8p2wcrg9', 'ckou3joca9zmt0yas6esc1vg2'}\n"
     ]
    }
   ],
   "source": [
    "print(set(labelbox_thinks_ids_are) & set(what_voxel51_thinks_labelbox_fields_are))"
   ]
  },
  {
   "cell_type": "code",
   "execution_count": null,
   "metadata": {},
   "outputs": [],
   "source": []
  }
 ],
 "metadata": {
  "kernelspec": {
   "display_name": "Python 3",
   "language": "python",
   "name": "python3"
  },
  "language_info": {
   "codemirror_mode": {
    "name": "ipython",
    "version": 3
   },
   "file_extension": ".py",
   "mimetype": "text/x-python",
   "name": "python",
   "nbconvert_exporter": "python",
   "pygments_lexer": "ipython3",
   "version": "3.6.9"
  }
 },
 "nbformat": 4,
 "nbformat_minor": 2
}
