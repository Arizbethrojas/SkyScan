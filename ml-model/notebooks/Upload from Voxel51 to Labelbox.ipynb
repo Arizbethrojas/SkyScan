{
 "cells": [
  {
   "cell_type": "markdown",
   "metadata": {},
   "source": [
    "# Export from Voxel51 to Labelbox\n",
    "This script will let you upload samples from a dataset to Labelbox for annotation.\n",
    "The LabelBox Project and Datasets should have already been created."
   ]
  },
  {
   "cell_type": "code",
   "execution_count": null,
   "metadata": {},
   "outputs": [],
   "source": [
    "# Authors: Luke Berndt, John Speed Meyers\n",
    "# Project: SkyScan\n",
    "# IQT Labs, IQT"
   ]
  },
  {
   "cell_type": "code",
   "execution_count": null,
   "metadata": {},
   "outputs": [],
   "source": [
    "LABELBOX_API_KEY = \"\"\n",
    "VOXEL51_DATASET_NAME = \"\"\n",
    "LABELBOX_DATASET_NAME = \"\"\n",
    "LABELBOX_PROJECT_NAME = \"\"\n",
    "# Name of the sample field you want Voxel51 to store the Labelbox ID\n",
    "# it gets after it has uploaded a sample\n",
    "LABELBOX_ID_FIELD = \"labelbox_id\""
   ]
  },
  {
   "cell_type": "code",
   "execution_count": null,
   "metadata": {},
   "outputs": [],
   "source": [
    "!pip install labelbox"
   ]
  },
  {
   "cell_type": "code",
   "execution_count": null,
   "metadata": {},
   "outputs": [],
   "source": [
    "import math\n",
    "from uuid import uuid4\n",
    "\n",
    "import fiftyone as fo\n",
    "import fiftyone.utils.labelbox as foul\n",
    "from labelbox import Client, Project, schema, Dataset"
   ]
  },
  {
   "cell_type": "code",
   "execution_count": null,
   "metadata": {},
   "outputs": [],
   "source": [
    "# connect to Labelbox client\n",
    "client = Client(LABELBOX_API_KEY)"
   ]
  },
  {
   "cell_type": "code",
   "execution_count": null,
   "metadata": {},
   "outputs": [],
   "source": [
    "# load Voxel51 dataset\n",
    "dataset = fo.load_dataset(VOXEL51_DATASET_NAME)"
   ]
  },
  {
   "cell_type": "markdown",
   "metadata": {},
   "source": [
    "## Upload dataset to Labelbox"
   ]
  },
  {
   "cell_type": "code",
   "execution_count": null,
   "metadata": {},
   "outputs": [],
   "source": [
    "print(\"\\n\\tLoading Project\\n---------------------------------\")\n",
    "projects = client.get_projects(where=Project.name == LABELBOX_PROJECT_NAME)\n",
    "projects = list(projects)\n",
    "if len(projects) != 1:\n",
    "    print(\"Expect a single project named: {} but found {} projects\".format(LABELBOX_PROJECT_NAME,\n",
    "                                                                           len(projects)))\n",
    "    exit(0)\n",
    "project = projects[0]\n",
    "print(\"Working with Project {}\\n\\\"{}\\\"\\nID: {}\\n \".format(project.name, project.description, project.uid))\n",
    "\n",
    "\n",
    "print(\"\\n\\tLoading Dataset\\n---------------------------------\")\n",
    "labelboxDatasets = project.datasets(where=Dataset.name == LABELBOX_DATASET_NAME)\n",
    "labelboxDatasets = list(labelboxDatasets)\n",
    "print(labelboxDatasets)\n",
    "if len(labelboxDatasets) != 1:\n",
    "    print(\"Expect a single dataset named: {} but found {} projects\".format(labelbox_dataset_name,\n",
    "                                                                           len(labeboxDatasets)))\n",
    "    exit(0)\n",
    "\n",
    "labelboxDataset = labelboxDatasets[0]"
   ]
  },
  {
   "cell_type": "code",
   "execution_count": null,
   "metadata": {},
   "outputs": [],
   "source": [
    "# Customize based on the subset of sample you wish to export and label\n",
    "\n",
    "# The Dataset or DatasetView to export\n",
    "# view = dataset.match_tags(\"plane\").shuffle().take(500)\n",
    "view = dataset.shuffle().take(500)\n",
    "\n",
    "foul.upload_media_to_labelbox(labelboxDataset, view,labelbox_id_field)    "
   ]
  },
  {
   "cell_type": "code",
   "execution_count": null,
   "metadata": {},
   "outputs": [],
   "source": []
  }
 ],
 "metadata": {
  "kernelspec": {
   "display_name": "Python 3",
   "language": "python",
   "name": "python3"
  },
  "language_info": {
   "codemirror_mode": {
    "name": "ipython",
    "version": 3
   },
   "file_extension": ".py",
   "mimetype": "text/x-python",
   "name": "python",
   "nbconvert_exporter": "python",
   "pygments_lexer": "ipython3",
   "version": "3.6.9"
  }
 },
 "nbformat": 4,
 "nbformat_minor": 2
}
