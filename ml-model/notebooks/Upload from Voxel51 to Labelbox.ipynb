{
 "cells": [
  {
   "cell_type": "markdown",
   "metadata": {},
   "source": [
    "# Export from Voxel51 to Labelbox\n",
    "This script will let you upload samples from a dataset to Labelbox for annotation.\n",
    "The LabelBox Project and Datasets should have already been created."
   ]
  },
  {
   "cell_type": "code",
   "execution_count": null,
   "metadata": {},
   "outputs": [],
   "source": [
    "!pip install labelbox"
   ]
  },
  {
   "cell_type": "code",
   "execution_count": null,
   "metadata": {},
   "outputs": [],
   "source": [
    "import fiftyone as fo\n",
    "import math\n",
    "import fiftyone.utils.labelbox as foul\n",
    "from labelbox import Client, Project, schema, Dataset\n",
    "from uuid import uuid4\n",
    "voxel51_dataset_name = \"test-dataset\" # Name of the Voxel51 Dataset to use\n",
    "labelbox_dataset_name = \"planeBox\" # Name of the Labelbox Dataset to use\n",
    "labelbox_project_name = \"planeBox\" # Name of the Labelbox Dataset to use\n",
    "labelbox_id_field = \"labelbox_id\" # This is the name of the sample field you want Voxel51 to store the Labelbox ID it gets after it has uploaded a sample\n",
    "from labelbox import Client\n",
    "client = Client(\"ADD_LABELBOX_API_KEY_HERE)"
   ]
  },
  {
   "cell_type": "code",
   "execution_count": null,
   "metadata": {},
   "outputs": [],
   "source": [
    "dataset = fo.load_dataset(voxel51_dataset_name)\n",
    "\n",
    "print(\"\\n\\tLoading Project\\n---------------------------------\")\n",
    "projects = client.get_projects(where=Project.name == labelbox_project_name)\n",
    "projects = list(projects)\n",
    "if len(projects) != 1:\n",
    "    print(\"Expect a single project named: {} but found {} projects\".format(labelbox_project_name, len(projects)))\n",
    "    exit(0)\n",
    "project = projects[0]\n",
    "print(\"Working with Project {}\\n\\\"{}\\\"\\nID: {}\\n \".format(project.name, project.description, project.uid))\n",
    "\n",
    "\n",
    "print(\"\\n\\tLoading Dataset\\n---------------------------------\")\n",
    "labelboxDatasets = project.datasets(where=Dataset.name == labelbox_dataset_name)\n",
    "labelboxDatasets = list(labelboxDatasets)\n",
    "print(labelboxDatasets)\n",
    "if len(labelboxDatasets) != 1:\n",
    "    print(\"Expect a single dataset named: {} but found {} projects\".format(labelbox_dataset_name, len(labeboxDatasets)))\n",
    "    exit(0)\n",
    "labelboxDataset = labelboxDatasets[0]"
   ]
  },
  {
   "cell_type": "code",
   "execution_count": null,
   "metadata": {},
   "outputs": [],
   "source": [
    "# Customize based on the subset of sample you wish to export and label\n",
    "\n",
    "# The Dataset or DatasetView to export\n",
    "view = dataset.match_tags(\"plane\").shuffle().take(500)\n",
    "\n",
    "foul.upload_media_to_labelbox(labelboxDataset, view,labelbox_id_field)    "
   ]
  },
  {
   "cell_type": "code",
   "execution_count": null,
   "metadata": {},
   "outputs": [],
   "source": []
  }
 ],
 "metadata": {
  "kernelspec": {
   "display_name": "Python 3",
   "language": "python",
   "name": "python3"
  },
  "language_info": {
   "codemirror_mode": {
    "name": "ipython",
    "version": 3
   },
   "file_extension": ".py",
   "mimetype": "text/x-python",
   "name": "python",
   "nbconvert_exporter": "python",
   "pygments_lexer": "ipython3",
   "version": "3.6.9"
  }
 },
 "nbformat": 4,
 "nbformat_minor": 2
}